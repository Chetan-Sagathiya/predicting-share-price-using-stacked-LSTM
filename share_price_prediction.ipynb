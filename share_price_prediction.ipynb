{
  "nbformat": 4,
  "nbformat_minor": 0,
  "metadata": {
    "colab": {
      "name": "share-price-prediction.ipynb",
      "provenance": [],
      "collapsed_sections": [],
      "mount_file_id": "1QgOv4iYJOqesm5l0oLXi6pDr3-TQ2hPM",
      "authorship_tag": "ABX9TyOT6I7Re2WUDPKjjVyNcz91",
      "include_colab_link": true
    },
    "kernelspec": {
      "display_name": "Python 3",
      "name": "python3"
    },
    "language_info": {
      "name": "python"
    }
  },
  "cells": [
    {
      "cell_type": "markdown",
      "metadata": {
        "id": "view-in-github",
        "colab_type": "text"
      },
      "source": [
        "<a href=\"https://colab.research.google.com/github/Chetan-Sagathiya/predicting-share-price-using-stacked-LSTM/blob/master/share_price_prediction.ipynb\" target=\"_parent\"><img src=\"https://colab.research.google.com/assets/colab-badge.svg\" alt=\"Open In Colab\"/></a>"
      ]
    },
    {
      "cell_type": "code",
      "metadata": {
        "id": "Ku1tNY_MrSj3"
      },
      "source": [
        "import numpy as np\n",
        "import pandas as pd\n",
        "import pandas_datareader as pdr\n",
        "import matplotlib.pyplot as plt\n",
        "%matplotlib inline"
      ],
      "execution_count": 1,
      "outputs": []
    },
    {
      "cell_type": "code",
      "metadata": {
        "id": "qVjHYfWkrYh4"
      },
      "source": [
        "data = pdr.get_data_tiingo('TSLA', api_key=\"cf93b77051eb2461710d7e9dd98b73959036c237\")"
      ],
      "execution_count": 71,
      "outputs": []
    },
    {
      "cell_type": "code",
      "metadata": {
        "colab": {
          "base_uri": "https://localhost:8080/",
          "height": 235
        },
        "id": "qj8MGYIWr0k3",
        "outputId": "8e958950-5a23-4308-ae27-e23023570819"
      },
      "source": [
        "data.tail()"
      ],
      "execution_count": 72,
      "outputs": [
        {
          "output_type": "execute_result",
          "data": {
            "text/html": [
              "<div>\n",
              "<style scoped>\n",
              "    .dataframe tbody tr th:only-of-type {\n",
              "        vertical-align: middle;\n",
              "    }\n",
              "\n",
              "    .dataframe tbody tr th {\n",
              "        vertical-align: top;\n",
              "    }\n",
              "\n",
              "    .dataframe thead th {\n",
              "        text-align: right;\n",
              "    }\n",
              "</style>\n",
              "<table border=\"1\" class=\"dataframe\">\n",
              "  <thead>\n",
              "    <tr style=\"text-align: right;\">\n",
              "      <th></th>\n",
              "      <th></th>\n",
              "      <th>close</th>\n",
              "      <th>high</th>\n",
              "      <th>low</th>\n",
              "      <th>open</th>\n",
              "      <th>volume</th>\n",
              "      <th>adjClose</th>\n",
              "      <th>adjHigh</th>\n",
              "      <th>adjLow</th>\n",
              "      <th>adjOpen</th>\n",
              "      <th>adjVolume</th>\n",
              "      <th>divCash</th>\n",
              "      <th>splitFactor</th>\n",
              "    </tr>\n",
              "    <tr>\n",
              "      <th>symbol</th>\n",
              "      <th>date</th>\n",
              "      <th></th>\n",
              "      <th></th>\n",
              "      <th></th>\n",
              "      <th></th>\n",
              "      <th></th>\n",
              "      <th></th>\n",
              "      <th></th>\n",
              "      <th></th>\n",
              "      <th></th>\n",
              "      <th></th>\n",
              "      <th></th>\n",
              "      <th></th>\n",
              "    </tr>\n",
              "  </thead>\n",
              "  <tbody>\n",
              "    <tr>\n",
              "      <th rowspan=\"5\" valign=\"top\">TSLA</th>\n",
              "      <th>2021-05-24 00:00:00+00:00</th>\n",
              "      <td>606.44</td>\n",
              "      <td>614.48</td>\n",
              "      <td>573.65</td>\n",
              "      <td>581.60</td>\n",
              "      <td>34558089</td>\n",
              "      <td>606.44</td>\n",
              "      <td>614.48</td>\n",
              "      <td>573.65</td>\n",
              "      <td>581.60</td>\n",
              "      <td>34558089</td>\n",
              "      <td>0.0</td>\n",
              "      <td>1.0</td>\n",
              "    </tr>\n",
              "    <tr>\n",
              "      <th>2021-05-25 00:00:00+00:00</th>\n",
              "      <td>604.69</td>\n",
              "      <td>613.99</td>\n",
              "      <td>595.71</td>\n",
              "      <td>607.31</td>\n",
              "      <td>28005933</td>\n",
              "      <td>604.69</td>\n",
              "      <td>613.99</td>\n",
              "      <td>595.71</td>\n",
              "      <td>607.31</td>\n",
              "      <td>28005933</td>\n",
              "      <td>0.0</td>\n",
              "      <td>1.0</td>\n",
              "    </tr>\n",
              "    <tr>\n",
              "      <th>2021-05-26 00:00:00+00:00</th>\n",
              "      <td>619.13</td>\n",
              "      <td>626.17</td>\n",
              "      <td>601.50</td>\n",
              "      <td>607.56</td>\n",
              "      <td>28639305</td>\n",
              "      <td>619.13</td>\n",
              "      <td>626.17</td>\n",
              "      <td>601.50</td>\n",
              "      <td>607.56</td>\n",
              "      <td>28639305</td>\n",
              "      <td>0.0</td>\n",
              "      <td>1.0</td>\n",
              "    </tr>\n",
              "    <tr>\n",
              "      <th>2021-05-27 00:00:00+00:00</th>\n",
              "      <td>630.85</td>\n",
              "      <td>631.13</td>\n",
              "      <td>616.21</td>\n",
              "      <td>620.24</td>\n",
              "      <td>26370593</td>\n",
              "      <td>630.85</td>\n",
              "      <td>631.13</td>\n",
              "      <td>616.21</td>\n",
              "      <td>620.24</td>\n",
              "      <td>26370593</td>\n",
              "      <td>0.0</td>\n",
              "      <td>1.0</td>\n",
              "    </tr>\n",
              "    <tr>\n",
              "      <th>2021-05-28 00:00:00+00:00</th>\n",
              "      <td>625.22</td>\n",
              "      <td>635.59</td>\n",
              "      <td>622.38</td>\n",
              "      <td>628.50</td>\n",
              "      <td>22737038</td>\n",
              "      <td>625.22</td>\n",
              "      <td>635.59</td>\n",
              "      <td>622.38</td>\n",
              "      <td>628.50</td>\n",
              "      <td>22737038</td>\n",
              "      <td>0.0</td>\n",
              "      <td>1.0</td>\n",
              "    </tr>\n",
              "  </tbody>\n",
              "</table>\n",
              "</div>"
            ],
            "text/plain": [
              "                                   close    high  ...  divCash  splitFactor\n",
              "symbol date                                       ...                      \n",
              "TSLA   2021-05-24 00:00:00+00:00  606.44  614.48  ...      0.0          1.0\n",
              "       2021-05-25 00:00:00+00:00  604.69  613.99  ...      0.0          1.0\n",
              "       2021-05-26 00:00:00+00:00  619.13  626.17  ...      0.0          1.0\n",
              "       2021-05-27 00:00:00+00:00  630.85  631.13  ...      0.0          1.0\n",
              "       2021-05-28 00:00:00+00:00  625.22  635.59  ...      0.0          1.0\n",
              "\n",
              "[5 rows x 12 columns]"
            ]
          },
          "metadata": {
            "tags": []
          },
          "execution_count": 72
        }
      ]
    },
    {
      "cell_type": "code",
      "metadata": {
        "id": "KMcKt2uavTo9"
      },
      "source": [
        "data.to_csv(\"tesla.csv\")"
      ],
      "execution_count": 74,
      "outputs": []
    },
    {
      "cell_type": "code",
      "metadata": {
        "colab": {
          "base_uri": "https://localhost:8080/",
          "height": 204
        },
        "id": "qsWDh0Jbwlqk",
        "outputId": "f3da7b09-45f5-4ad4-8c46-df8e9eb2d0fc"
      },
      "source": [
        "data = pd.read_csv(\"tesla.csv\")\n",
        "data.head()"
      ],
      "execution_count": 75,
      "outputs": [
        {
          "output_type": "execute_result",
          "data": {
            "text/html": [
              "<div>\n",
              "<style scoped>\n",
              "    .dataframe tbody tr th:only-of-type {\n",
              "        vertical-align: middle;\n",
              "    }\n",
              "\n",
              "    .dataframe tbody tr th {\n",
              "        vertical-align: top;\n",
              "    }\n",
              "\n",
              "    .dataframe thead th {\n",
              "        text-align: right;\n",
              "    }\n",
              "</style>\n",
              "<table border=\"1\" class=\"dataframe\">\n",
              "  <thead>\n",
              "    <tr style=\"text-align: right;\">\n",
              "      <th></th>\n",
              "      <th>symbol</th>\n",
              "      <th>date</th>\n",
              "      <th>close</th>\n",
              "      <th>high</th>\n",
              "      <th>low</th>\n",
              "      <th>open</th>\n",
              "      <th>volume</th>\n",
              "      <th>adjClose</th>\n",
              "      <th>adjHigh</th>\n",
              "      <th>adjLow</th>\n",
              "      <th>adjOpen</th>\n",
              "      <th>adjVolume</th>\n",
              "      <th>divCash</th>\n",
              "      <th>splitFactor</th>\n",
              "    </tr>\n",
              "  </thead>\n",
              "  <tbody>\n",
              "    <tr>\n",
              "      <th>0</th>\n",
              "      <td>TSLA</td>\n",
              "      <td>2016-06-01 00:00:00+00:00</td>\n",
              "      <td>219.56</td>\n",
              "      <td>222.400</td>\n",
              "      <td>216.89</td>\n",
              "      <td>221.48</td>\n",
              "      <td>2982695</td>\n",
              "      <td>43.912</td>\n",
              "      <td>44.4800</td>\n",
              "      <td>43.378</td>\n",
              "      <td>44.296</td>\n",
              "      <td>14913475</td>\n",
              "      <td>0.0</td>\n",
              "      <td>1.0</td>\n",
              "    </tr>\n",
              "    <tr>\n",
              "      <th>1</th>\n",
              "      <td>TSLA</td>\n",
              "      <td>2016-06-02 00:00:00+00:00</td>\n",
              "      <td>218.96</td>\n",
              "      <td>219.909</td>\n",
              "      <td>217.11</td>\n",
              "      <td>219.59</td>\n",
              "      <td>2032832</td>\n",
              "      <td>43.792</td>\n",
              "      <td>43.9818</td>\n",
              "      <td>43.422</td>\n",
              "      <td>43.918</td>\n",
              "      <td>10164160</td>\n",
              "      <td>0.0</td>\n",
              "      <td>1.0</td>\n",
              "    </tr>\n",
              "    <tr>\n",
              "      <th>2</th>\n",
              "      <td>TSLA</td>\n",
              "      <td>2016-06-03 00:00:00+00:00</td>\n",
              "      <td>218.99</td>\n",
              "      <td>221.940</td>\n",
              "      <td>218.01</td>\n",
              "      <td>220.00</td>\n",
              "      <td>2228970</td>\n",
              "      <td>43.798</td>\n",
              "      <td>44.3880</td>\n",
              "      <td>43.602</td>\n",
              "      <td>44.000</td>\n",
              "      <td>11144850</td>\n",
              "      <td>0.0</td>\n",
              "      <td>1.0</td>\n",
              "    </tr>\n",
              "    <tr>\n",
              "      <th>3</th>\n",
              "      <td>TSLA</td>\n",
              "      <td>2016-06-06 00:00:00+00:00</td>\n",
              "      <td>220.68</td>\n",
              "      <td>220.900</td>\n",
              "      <td>215.45</td>\n",
              "      <td>218.00</td>\n",
              "      <td>2249508</td>\n",
              "      <td>44.136</td>\n",
              "      <td>44.1800</td>\n",
              "      <td>43.090</td>\n",
              "      <td>43.600</td>\n",
              "      <td>11247540</td>\n",
              "      <td>0.0</td>\n",
              "      <td>1.0</td>\n",
              "    </tr>\n",
              "    <tr>\n",
              "      <th>4</th>\n",
              "      <td>TSLA</td>\n",
              "      <td>2016-06-07 00:00:00+00:00</td>\n",
              "      <td>232.34</td>\n",
              "      <td>234.440</td>\n",
              "      <td>221.52</td>\n",
              "      <td>222.24</td>\n",
              "      <td>6213573</td>\n",
              "      <td>46.468</td>\n",
              "      <td>46.8880</td>\n",
              "      <td>44.304</td>\n",
              "      <td>44.448</td>\n",
              "      <td>31067865</td>\n",
              "      <td>0.0</td>\n",
              "      <td>1.0</td>\n",
              "    </tr>\n",
              "  </tbody>\n",
              "</table>\n",
              "</div>"
            ],
            "text/plain": [
              "  symbol                       date   close  ...  adjVolume  divCash  splitFactor\n",
              "0   TSLA  2016-06-01 00:00:00+00:00  219.56  ...   14913475      0.0          1.0\n",
              "1   TSLA  2016-06-02 00:00:00+00:00  218.96  ...   10164160      0.0          1.0\n",
              "2   TSLA  2016-06-03 00:00:00+00:00  218.99  ...   11144850      0.0          1.0\n",
              "3   TSLA  2016-06-06 00:00:00+00:00  220.68  ...   11247540      0.0          1.0\n",
              "4   TSLA  2016-06-07 00:00:00+00:00  232.34  ...   31067865      0.0          1.0\n",
              "\n",
              "[5 rows x 14 columns]"
            ]
          },
          "metadata": {
            "tags": []
          },
          "execution_count": 75
        }
      ]
    },
    {
      "cell_type": "code",
      "metadata": {
        "colab": {
          "base_uri": "https://localhost:8080/"
        },
        "id": "8SU-MjxPwu_P",
        "outputId": "84c98f8d-6935-4236-d285-fd5ea5698ef1"
      },
      "source": [
        "df = data.reset_index()['close']\n",
        "df.head()"
      ],
      "execution_count": 76,
      "outputs": [
        {
          "output_type": "execute_result",
          "data": {
            "text/plain": [
              "0    219.56\n",
              "1    218.96\n",
              "2    218.99\n",
              "3    220.68\n",
              "4    232.34\n",
              "Name: close, dtype: float64"
            ]
          },
          "metadata": {
            "tags": []
          },
          "execution_count": 76
        }
      ]
    },
    {
      "cell_type": "code",
      "metadata": {
        "colab": {
          "base_uri": "https://localhost:8080/"
        },
        "id": "5gXkSg3GxMVf",
        "outputId": "0e53dfbd-82bf-4226-9950-c7c447d7e0aa"
      },
      "source": [
        "df.shape"
      ],
      "execution_count": 77,
      "outputs": [
        {
          "output_type": "execute_result",
          "data": {
            "text/plain": [
              "(1258,)"
            ]
          },
          "metadata": {
            "tags": []
          },
          "execution_count": 77
        }
      ]
    },
    {
      "cell_type": "code",
      "metadata": {
        "colab": {
          "base_uri": "https://localhost:8080/",
          "height": 282
        },
        "id": "DU3rQbwMxQ1O",
        "outputId": "5c7652a9-0a3d-4c62-ba80-fc005b132e97"
      },
      "source": [
        "df.plot()"
      ],
      "execution_count": 78,
      "outputs": [
        {
          "output_type": "execute_result",
          "data": {
            "text/plain": [
              "<matplotlib.axes._subplots.AxesSubplot at 0x7f96d34abe90>"
            ]
          },
          "metadata": {
            "tags": []
          },
          "execution_count": 78
        },
        {
          "output_type": "display_data",
          "data": {
            "image/png": "[encoded data removed]",
            "text/plain": [
              "<Figure size 432x288 with 1 Axes>"
            ]
          },
          "metadata": {
            "tags": [],
            "needs_background": "light"
          }
        }
      ]
    },
    {
      "cell_type": "code",
      "metadata": {
        "id": "94RxoSyQxbEu"
      },
      "source": [
        "from sklearn.preprocessing import MinMaxScaler\n",
        "scaler = MinMaxScaler(feature_range=(0,1))\n",
        "df = scaler.fit_transform(np.array(df).reshape(-1,1))"
      ],
      "execution_count": 79,
      "outputs": []
    },
    {
      "cell_type": "code",
      "metadata": {
        "colab": {
          "base_uri": "https://localhost:8080/"
        },
        "id": "Ufz1r9T4xvsH",
        "outputId": "7ecb2a9d-3ee2-4429-9bb8-ff93674b33bb"
      },
      "source": [
        "df.shape"
      ],
      "execution_count": 80,
      "outputs": [
        {
          "output_type": "execute_result",
          "data": {
            "text/plain": [
              "(1258, 1)"
            ]
          },
          "metadata": {
            "tags": []
          },
          "execution_count": 80
        }
      ]
    },
    {
      "cell_type": "code",
      "metadata": {
        "id": "YvDrKvl3yMYf"
      },
      "source": [
        "training_size = int(len(df)*0.70)\n",
        "testing_size = len(df)-training_size"
      ],
      "execution_count": 81,
      "outputs": []
    },
    {
      "cell_type": "code",
      "metadata": {
        "id": "QIEKymL31bAU"
      },
      "source": [
        "train_data, test_data = df[0:training_size,:], df[training_size:len(df)]"
      ],
      "execution_count": 82,
      "outputs": []
    },
    {
      "cell_type": "code",
      "metadata": {
        "id": "Z1dP-6mO2qS2"
      },
      "source": [
        "def create_dataset(dataset, time_steps=1):\n",
        "  X, y = [], []\n",
        "  for i in range(len(dataset)-time_steps-1):\n",
        "    a = dataset[i:(i+time_steps), 0]      # creating data from 0 to 100 as X or independent variable\n",
        "    X.append(a)\n",
        "    y.append(dataset[i + time_steps, 0]) # dependenet variable y\n",
        "  return np.array(X), np.array(y)"
      ],
      "execution_count": 83,
      "outputs": []
    },
    {
      "cell_type": "code",
      "metadata": {
        "id": "TYlBXvO_7dGN"
      },
      "source": [
        "X_train, y_train = create_dataset(train_data, 100)\n",
        "X_test, y_test = create_dataset(test_data, 100)"
      ],
      "execution_count": 84,
      "outputs": []
    },
    {
      "cell_type": "code",
      "metadata": {
        "colab": {
          "base_uri": "https://localhost:8080/"
        },
        "id": "A7WsZP-g7f4_",
        "outputId": "d1d2447d-6239-43b9-d547-41482e924196"
      },
      "source": [
        "X_train.shape, y_train.shape, X_test.shape, y_test.shape"
      ],
      "execution_count": 85,
      "outputs": [
        {
          "output_type": "execute_result",
          "data": {
            "text/plain": [
              "((779, 100), (779,), (277, 100), (277,))"
            ]
          },
          "metadata": {
            "tags": []
          },
          "execution_count": 85
        }
      ]
    },
    {
      "cell_type": "code",
      "metadata": {
        "colab": {
          "base_uri": "https://localhost:8080/"
        },
        "id": "k0A5-78d-_X0",
        "outputId": "159f0609-14eb-457f-f802-e75d879414b8"
      },
      "source": [
        "X_train.shape[0], X_train.shape[1]"
      ],
      "execution_count": 86,
      "outputs": [
        {
          "output_type": "execute_result",
          "data": {
            "text/plain": [
              "(779, 100)"
            ]
          },
          "metadata": {
            "tags": []
          },
          "execution_count": 86
        }
      ]
    },
    {
      "cell_type": "code",
      "metadata": {
        "id": "5hiD0eU79neP"
      },
      "source": [
        "# reshaping our data as per LSTM i.e [samples, time_steps, features]\n",
        "X_train = X_train.reshape(X_train.shape[0], X_train.shape[1], 1)\n",
        "X_test = X_test.reshape(X_test.shape[0], X_test.shape[1], 1)"
      ],
      "execution_count": 87,
      "outputs": []
    },
    {
      "cell_type": "code",
      "metadata": {
        "id": "C5liuMSk-_3D"
      },
      "source": [
        "from keras.models import Sequential\n",
        "from keras.layers import LSTM, Dense"
      ],
      "execution_count": 88,
      "outputs": []
    },
    {
      "cell_type": "code",
      "metadata": {
        "id": "OEy7hv03_lMx"
      },
      "source": [
        "model = Sequential([\n",
        "                    LSTM(64, return_sequences=True, input_shape=(100, 1)),\n",
        "                    LSTM(64, return_sequences=True),\n",
        "                    LSTM(64, return_sequences=True),\n",
        "                    LSTM(64),\n",
        "                    Dense(1)\n",
        "])"
      ],
      "execution_count": 89,
      "outputs": []
    },
    {
      "cell_type": "code",
      "metadata": {
        "id": "Y1i6KSp5Azgw"
      },
      "source": [
        "model.compile(loss=\"mean_squared_error\", optimizer=\"adam\")"
      ],
      "execution_count": 90,
      "outputs": []
    },
    {
      "cell_type": "code",
      "metadata": {
        "colab": {
          "base_uri": "https://localhost:8080/"
        },
        "id": "2QzASTZkBBaF",
        "outputId": "688fb1fa-b0a1-43ac-ea56-13128d88dd12"
      },
      "source": [
        "model.summary()"
      ],
      "execution_count": 91,
      "outputs": [
        {
          "output_type": "stream",
          "text": [
            "Model: \"sequential_2\"\n",
            "_________________________________________________________________\n",
            "Layer (type)                 Output Shape              Param #   \n",
            "=================================================================\n",
            "lstm_8 (LSTM)                (None, 100, 64)           16896     \n",
            "_________________________________________________________________\n",
            "lstm_9 (LSTM)                (None, 100, 64)           33024     \n",
            "_________________________________________________________________\n",
            "lstm_10 (LSTM)               (None, 100, 64)           33024     \n",
            "_________________________________________________________________\n",
            "lstm_11 (LSTM)               (None, 64)                33024     \n",
            "_________________________________________________________________\n",
            "dense_2 (Dense)              (None, 1)                 65        \n",
            "=================================================================\n",
            "Total params: 116,033\n",
            "Trainable params: 116,033\n",
            "Non-trainable params: 0\n",
            "_________________________________________________________________\n"
          ],
          "name": "stdout"
        }
      ]
    },
    {
      "cell_type": "code",
      "metadata": {
        "colab": {
          "base_uri": "https://localhost:8080/"
        },
        "id": "dhPu653CBEWm",
        "outputId": "b7c9e054-5397-42b3-b29f-f6a0b6cd09c2"
      },
      "source": [
        "model.fit(X_train, y_train, validation_data=(X_test, y_test), epochs=100, batch_size=32, verbose=1)"
      ],
      "execution_count": 92,
      "outputs": [
        {
          "output_type": "stream",
          "text": [
            "Epoch 1/100\n",
            "25/25 [==============================] - 13s 279ms/step - loss: 9.9378e-04 - val_loss: 0.0340\n",
            "Epoch 2/100\n",
            "25/25 [==============================] - 5s 203ms/step - loss: 2.2155e-04 - val_loss: 0.0286\n",
            "Epoch 3/100\n",
            "25/25 [==============================] - 5s 204ms/step - loss: 1.8246e-04 - val_loss: 0.0219\n",
            "Epoch 4/100\n",
            "25/25 [==============================] - 5s 202ms/step - loss: 1.5064e-04 - val_loss: 0.0208\n",
            "Epoch 5/100\n",
            "25/25 [==============================] - 5s 204ms/step - loss: 1.3380e-04 - val_loss: 0.0186\n",
            "Epoch 6/100\n",
            "25/25 [==============================] - 5s 202ms/step - loss: 1.2364e-04 - val_loss: 0.0180\n",
            "Epoch 7/100\n",
            "25/25 [==============================] - 5s 202ms/step - loss: 1.2413e-04 - val_loss: 0.0195\n",
            "Epoch 8/100\n",
            "25/25 [==============================] - 5s 201ms/step - loss: 1.1839e-04 - val_loss: 0.0172\n",
            "Epoch 9/100\n",
            "25/25 [==============================] - 5s 202ms/step - loss: 1.2096e-04 - val_loss: 0.0195\n",
            "Epoch 10/100\n",
            "25/25 [==============================] - 5s 205ms/step - loss: 1.3276e-04 - val_loss: 0.0203\n",
            "Epoch 11/100\n",
            "25/25 [==============================] - 5s 201ms/step - loss: 1.1719e-04 - val_loss: 0.0176\n",
            "Epoch 12/100\n",
            "25/25 [==============================] - 5s 204ms/step - loss: 8.5832e-05 - val_loss: 0.0158\n",
            "Epoch 13/100\n",
            "25/25 [==============================] - 5s 204ms/step - loss: 9.8949e-05 - val_loss: 0.0158\n",
            "Epoch 14/100\n",
            "25/25 [==============================] - 5s 207ms/step - loss: 9.6236e-05 - val_loss: 0.0127\n",
            "Epoch 15/100\n",
            "25/25 [==============================] - 5s 203ms/step - loss: 7.9730e-05 - val_loss: 0.0158\n",
            "Epoch 16/100\n",
            "25/25 [==============================] - 5s 205ms/step - loss: 7.3392e-05 - val_loss: 0.0159\n",
            "Epoch 17/100\n",
            "25/25 [==============================] - 5s 207ms/step - loss: 8.0429e-05 - val_loss: 0.0153\n",
            "Epoch 18/100\n",
            "25/25 [==============================] - 5s 205ms/step - loss: 7.2211e-05 - val_loss: 0.0155\n",
            "Epoch 19/100\n",
            "25/25 [==============================] - 5s 207ms/step - loss: 7.6010e-05 - val_loss: 0.0133\n",
            "Epoch 20/100\n",
            "25/25 [==============================] - 5s 206ms/step - loss: 6.2055e-05 - val_loss: 0.0160\n",
            "Epoch 21/100\n",
            "25/25 [==============================] - 5s 200ms/step - loss: 7.0825e-05 - val_loss: 0.0167\n",
            "Epoch 22/100\n",
            "25/25 [==============================] - 5s 203ms/step - loss: 6.4904e-05 - val_loss: 0.0181\n",
            "Epoch 23/100\n",
            "25/25 [==============================] - 5s 204ms/step - loss: 5.8205e-05 - val_loss: 0.0168\n",
            "Epoch 24/100\n",
            "25/25 [==============================] - 5s 201ms/step - loss: 5.5373e-05 - val_loss: 0.0174\n",
            "Epoch 25/100\n",
            "25/25 [==============================] - 5s 205ms/step - loss: 7.2846e-05 - val_loss: 0.0168\n",
            "Epoch 26/100\n",
            "25/25 [==============================] - 5s 202ms/step - loss: 5.2191e-05 - val_loss: 0.0157\n",
            "Epoch 27/100\n",
            "25/25 [==============================] - 5s 204ms/step - loss: 4.9970e-05 - val_loss: 0.0190\n",
            "Epoch 28/100\n",
            "25/25 [==============================] - 5s 202ms/step - loss: 4.7946e-05 - val_loss: 0.0166\n",
            "Epoch 29/100\n",
            "25/25 [==============================] - 5s 202ms/step - loss: 5.9342e-05 - val_loss: 0.0156\n",
            "Epoch 30/100\n",
            "25/25 [==============================] - 5s 203ms/step - loss: 6.6239e-05 - val_loss: 0.0194\n",
            "Epoch 31/100\n",
            "25/25 [==============================] - 5s 204ms/step - loss: 4.4191e-05 - val_loss: 0.0175\n",
            "Epoch 32/100\n",
            "25/25 [==============================] - 5s 205ms/step - loss: 4.6234e-05 - val_loss: 0.0177\n",
            "Epoch 33/100\n",
            "25/25 [==============================] - 5s 202ms/step - loss: 3.8912e-05 - val_loss: 0.0182\n",
            "Epoch 34/100\n",
            "25/25 [==============================] - 5s 205ms/step - loss: 3.8532e-05 - val_loss: 0.0219\n",
            "Epoch 35/100\n",
            "25/25 [==============================] - 5s 212ms/step - loss: 4.3184e-05 - val_loss: 0.0187\n",
            "Epoch 36/100\n",
            "25/25 [==============================] - 5s 205ms/step - loss: 3.8054e-05 - val_loss: 0.0226\n",
            "Epoch 37/100\n",
            "25/25 [==============================] - 5s 208ms/step - loss: 4.1573e-05 - val_loss: 0.0213\n",
            "Epoch 38/100\n",
            "25/25 [==============================] - 5s 204ms/step - loss: 3.9380e-05 - val_loss: 0.0208\n",
            "Epoch 39/100\n",
            "25/25 [==============================] - 5s 204ms/step - loss: 4.2167e-05 - val_loss: 0.0209\n",
            "Epoch 40/100\n",
            "25/25 [==============================] - 5s 204ms/step - loss: 3.3731e-05 - val_loss: 0.0173\n",
            "Epoch 41/100\n",
            "25/25 [==============================] - 5s 204ms/step - loss: 3.4171e-05 - val_loss: 0.0183\n",
            "Epoch 42/100\n",
            "25/25 [==============================] - 5s 203ms/step - loss: 2.9335e-05 - val_loss: 0.0204\n",
            "Epoch 43/100\n",
            "25/25 [==============================] - 5s 209ms/step - loss: 3.4269e-05 - val_loss: 0.0176\n",
            "Epoch 44/100\n",
            "25/25 [==============================] - 5s 204ms/step - loss: 3.3984e-05 - val_loss: 0.0175\n",
            "Epoch 45/100\n",
            "25/25 [==============================] - 5s 204ms/step - loss: 3.0514e-05 - val_loss: 0.0192\n",
            "Epoch 46/100\n",
            "25/25 [==============================] - 5s 202ms/step - loss: 2.9362e-05 - val_loss: 0.0159\n",
            "Epoch 47/100\n",
            "25/25 [==============================] - 5s 202ms/step - loss: 3.1789e-05 - val_loss: 0.0156\n",
            "Epoch 48/100\n",
            "25/25 [==============================] - 5s 206ms/step - loss: 3.2430e-05 - val_loss: 0.0147\n",
            "Epoch 49/100\n",
            "25/25 [==============================] - 5s 205ms/step - loss: 3.0653e-05 - val_loss: 0.0153\n",
            "Epoch 50/100\n",
            "25/25 [==============================] - 5s 204ms/step - loss: 2.5502e-05 - val_loss: 0.0155\n",
            "Epoch 51/100\n",
            "25/25 [==============================] - 5s 206ms/step - loss: 2.4758e-05 - val_loss: 0.0178\n",
            "Epoch 52/100\n",
            "25/25 [==============================] - 5s 204ms/step - loss: 3.2163e-05 - val_loss: 0.0190\n",
            "Epoch 53/100\n",
            "25/25 [==============================] - 5s 206ms/step - loss: 2.9787e-05 - val_loss: 0.0186\n",
            "Epoch 54/100\n",
            "25/25 [==============================] - 5s 206ms/step - loss: 2.7075e-05 - val_loss: 0.0172\n",
            "Epoch 55/100\n",
            "25/25 [==============================] - 5s 204ms/step - loss: 2.1150e-05 - val_loss: 0.0158\n",
            "Epoch 56/100\n",
            "25/25 [==============================] - 5s 205ms/step - loss: 2.3407e-05 - val_loss: 0.0149\n",
            "Epoch 57/100\n",
            "25/25 [==============================] - 5s 204ms/step - loss: 2.3926e-05 - val_loss: 0.0136\n",
            "Epoch 58/100\n",
            "25/25 [==============================] - 5s 203ms/step - loss: 2.3493e-05 - val_loss: 0.0144\n",
            "Epoch 59/100\n",
            "25/25 [==============================] - 5s 205ms/step - loss: 2.0659e-05 - val_loss: 0.0143\n",
            "Epoch 60/100\n",
            "25/25 [==============================] - 5s 208ms/step - loss: 2.2327e-05 - val_loss: 0.0141\n",
            "Epoch 61/100\n",
            "25/25 [==============================] - 5s 204ms/step - loss: 2.6228e-05 - val_loss: 0.0146\n",
            "Epoch 62/100\n",
            "25/25 [==============================] - 5s 208ms/step - loss: 3.2318e-05 - val_loss: 0.0117\n",
            "Epoch 63/100\n",
            "25/25 [==============================] - 5s 205ms/step - loss: 2.1199e-05 - val_loss: 0.0150\n",
            "Epoch 64/100\n",
            "25/25 [==============================] - 5s 209ms/step - loss: 2.2870e-05 - val_loss: 0.0153\n",
            "Epoch 65/100\n",
            "25/25 [==============================] - 5s 213ms/step - loss: 1.9419e-05 - val_loss: 0.0122\n",
            "Epoch 66/100\n",
            "25/25 [==============================] - 5s 203ms/step - loss: 2.2393e-05 - val_loss: 0.0130\n",
            "Epoch 67/100\n",
            "25/25 [==============================] - 5s 212ms/step - loss: 2.2738e-05 - val_loss: 0.0136\n",
            "Epoch 68/100\n",
            "25/25 [==============================] - 5s 207ms/step - loss: 1.7814e-05 - val_loss: 0.0126\n",
            "Epoch 69/100\n",
            "25/25 [==============================] - 5s 209ms/step - loss: 1.9626e-05 - val_loss: 0.0127\n",
            "Epoch 70/100\n",
            "25/25 [==============================] - 5s 204ms/step - loss: 2.2594e-05 - val_loss: 0.0132\n",
            "Epoch 71/100\n",
            "25/25 [==============================] - 5s 200ms/step - loss: 2.0336e-05 - val_loss: 0.0125\n",
            "Epoch 72/100\n",
            "25/25 [==============================] - 5s 206ms/step - loss: 2.1990e-05 - val_loss: 0.0117\n",
            "Epoch 73/100\n",
            "25/25 [==============================] - 5s 203ms/step - loss: 1.9056e-05 - val_loss: 0.0122\n",
            "Epoch 74/100\n",
            "25/25 [==============================] - 5s 209ms/step - loss: 1.8875e-05 - val_loss: 0.0106\n",
            "Epoch 75/100\n",
            "25/25 [==============================] - 5s 205ms/step - loss: 1.8709e-05 - val_loss: 0.0117\n",
            "Epoch 76/100\n",
            "25/25 [==============================] - 5s 204ms/step - loss: 2.2357e-05 - val_loss: 0.0114\n",
            "Epoch 77/100\n",
            "25/25 [==============================] - 5s 203ms/step - loss: 2.0027e-05 - val_loss: 0.0113\n",
            "Epoch 78/100\n",
            "25/25 [==============================] - 5s 206ms/step - loss: 2.2700e-05 - val_loss: 0.0111\n",
            "Epoch 79/100\n",
            "25/25 [==============================] - 5s 212ms/step - loss: 2.1457e-05 - val_loss: 0.0108\n",
            "Epoch 80/100\n",
            "25/25 [==============================] - 5s 205ms/step - loss: 1.8772e-05 - val_loss: 0.0109\n",
            "Epoch 81/100\n",
            "25/25 [==============================] - 5s 203ms/step - loss: 2.0438e-05 - val_loss: 0.0095\n",
            "Epoch 82/100\n",
            "25/25 [==============================] - 5s 206ms/step - loss: 1.8829e-05 - val_loss: 0.0099\n",
            "Epoch 83/100\n",
            "25/25 [==============================] - 5s 204ms/step - loss: 2.1652e-05 - val_loss: 0.0113\n",
            "Epoch 84/100\n",
            "25/25 [==============================] - 5s 205ms/step - loss: 1.7681e-05 - val_loss: 0.0097\n",
            "Epoch 85/100\n",
            "25/25 [==============================] - 5s 204ms/step - loss: 1.8204e-05 - val_loss: 0.0108\n",
            "Epoch 86/100\n",
            "25/25 [==============================] - 5s 204ms/step - loss: 1.8367e-05 - val_loss: 0.0113\n",
            "Epoch 87/100\n",
            "25/25 [==============================] - 5s 204ms/step - loss: 2.2413e-05 - val_loss: 0.0117\n",
            "Epoch 88/100\n",
            "25/25 [==============================] - 5s 206ms/step - loss: 1.8865e-05 - val_loss: 0.0086\n",
            "Epoch 89/100\n",
            "25/25 [==============================] - 5s 205ms/step - loss: 2.7366e-05 - val_loss: 0.0122\n",
            "Epoch 90/100\n",
            "25/25 [==============================] - 5s 208ms/step - loss: 2.4033e-05 - val_loss: 0.0135\n",
            "Epoch 91/100\n",
            "25/25 [==============================] - 5s 204ms/step - loss: 2.2757e-05 - val_loss: 0.0115\n",
            "Epoch 92/100\n",
            "25/25 [==============================] - 5s 203ms/step - loss: 2.8241e-05 - val_loss: 0.0136\n",
            "Epoch 93/100\n",
            "25/25 [==============================] - 5s 209ms/step - loss: 2.4209e-05 - val_loss: 0.0106\n",
            "Epoch 94/100\n",
            "25/25 [==============================] - 5s 205ms/step - loss: 1.9534e-05 - val_loss: 0.0097\n",
            "Epoch 95/100\n",
            "25/25 [==============================] - 5s 204ms/step - loss: 1.9163e-05 - val_loss: 0.0099\n",
            "Epoch 96/100\n",
            "25/25 [==============================] - 5s 209ms/step - loss: 2.0612e-05 - val_loss: 0.0113\n",
            "Epoch 97/100\n",
            "25/25 [==============================] - 5s 207ms/step - loss: 2.4870e-05 - val_loss: 0.0110\n",
            "Epoch 98/100\n",
            "25/25 [==============================] - 5s 206ms/step - loss: 2.3861e-05 - val_loss: 0.0101\n",
            "Epoch 99/100\n",
            "25/25 [==============================] - 5s 207ms/step - loss: 2.0811e-05 - val_loss: 0.0110\n",
            "Epoch 100/100\n",
            "25/25 [==============================] - 5s 202ms/step - loss: 2.1615e-05 - val_loss: 0.0086\n"
          ],
          "name": "stdout"
        },
        {
          "output_type": "execute_result",
          "data": {
            "text/plain": [
              "<keras.callbacks.History at 0x7f96dd831750>"
            ]
          },
          "metadata": {
            "tags": []
          },
          "execution_count": 92
        }
      ]
    },
    {
      "cell_type": "code",
      "metadata": {
        "id": "Ba-c34J3BVmq"
      },
      "source": [
        "train_predicted = model.predict(X_train)\n",
        "test_predicted = model.predict(X_test)"
      ],
      "execution_count": 93,
      "outputs": []
    },
    {
      "cell_type": "code",
      "metadata": {
        "id": "Lkre7r8bCNsx"
      },
      "source": [
        "train_predicted = scaler.inverse_transform(train_predicted)\n",
        "test_predicted = scaler.inverse_transform(test_predicted)"
      ],
      "execution_count": 94,
      "outputs": []
    },
    {
      "cell_type": "code",
      "metadata": {
        "colab": {
          "base_uri": "https://localhost:8080/"
        },
        "id": "twWGxKlHCcuV",
        "outputId": "de2822fc-7c14-4a2a-cb73-33bd450f65de"
      },
      "source": [
        "import math\n",
        "from sklearn.metrics import mean_squared_error\n",
        "math.sqrt(mean_squared_error(y_train, train_predicted))"
      ],
      "execution_count": 95,
      "outputs": [
        {
          "output_type": "execute_result",
          "data": {
            "text/plain": [
              "298.33478257257286"
            ]
          },
          "metadata": {
            "tags": []
          },
          "execution_count": 95
        }
      ]
    },
    {
      "cell_type": "code",
      "metadata": {
        "colab": {
          "base_uri": "https://localhost:8080/"
        },
        "id": "bDwuak_8C2Tz",
        "outputId": "25c74b0f-d5b1-415b-9303-bf15688a75e6"
      },
      "source": [
        "math.sqrt(mean_squared_error(y_test, test_predicted))"
      ],
      "execution_count": 96,
      "outputs": [
        {
          "output_type": "execute_result",
          "data": {
            "text/plain": [
              "753.208165203706"
            ]
          },
          "metadata": {
            "tags": []
          },
          "execution_count": 96
        }
      ]
    },
    {
      "cell_type": "code",
      "metadata": {
        "colab": {
          "base_uri": "https://localhost:8080/",
          "height": 265
        },
        "id": "zD_sCeS6ER6E",
        "outputId": "25d299ea-97fd-4fa8-9514-1ba613c9468e"
      },
      "source": [
        "import numpy\n",
        "look_back = 100\n",
        "trainPredictPlot = numpy.empty_like(df)\n",
        "trainPredictPlot[:, :] = numpy.nan\n",
        "trainPredictPlot[look_back:len(train_predicted)+look_back, :] = train_predicted\n",
        "# shift test predictions for plotting\n",
        "testPredictPlot = numpy.empty_like(df)\n",
        "testPredictPlot[:, :] = numpy.nan\n",
        "testPredictPlot[len(train_predicted)+(look_back*2)+1:len(df)-1, :] = test_predicted\n",
        "# plot baseline and predictions\n",
        "plt.plot(scaler.inverse_transform(df))\n",
        "plt.plot(trainPredictPlot)\n",
        "plt.plot(testPredictPlot)\n",
        "plt.show()"
      ],
      "execution_count": 97,
      "outputs": [
        {
          "output_type": "display_data",
          "data": {
            "image/png": "[encoded data removed]",
            "text/plain": [
              "<Figure size 432x288 with 1 Axes>"
            ]
          },
          "metadata": {
            "tags": [],
            "needs_background": "light"
          }
        }
      ]
    },
    {
      "cell_type": "code",
      "metadata": {
        "id": "wZn1HL89GHwK"
      },
      "source": [
        "## blue line is original dataset\n",
        "## orange line is train predicted dataset\n",
        "## green line in test predicted dataset"
      ],
      "execution_count": 98,
      "outputs": []
    },
    {
      "cell_type": "code",
      "metadata": {
        "colab": {
          "base_uri": "https://localhost:8080/"
        },
        "id": "murj6ScqGPeR",
        "outputId": "24c51745-ca1d-41e2-da63-76771b44e709"
      },
      "source": [
        "len(test_data)"
      ],
      "execution_count": 99,
      "outputs": [
        {
          "output_type": "execute_result",
          "data": {
            "text/plain": [
              "378"
            ]
          },
          "metadata": {
            "tags": []
          },
          "execution_count": 99
        }
      ]
    },
    {
      "cell_type": "code",
      "metadata": {
        "id": "2ra7IZFtYX4T",
        "colab": {
          "base_uri": "https://localhost:8080/"
        },
        "outputId": "61da109f-b792-4781-de7c-4c931537f1a9"
      },
      "source": [
        "X_input = test_data[278:].reshape(1, -1)\n",
        "X_input.shape"
      ],
      "execution_count": 100,
      "outputs": [
        {
          "output_type": "execute_result",
          "data": {
            "text/plain": [
              "(1, 100)"
            ]
          },
          "metadata": {
            "tags": []
          },
          "execution_count": 100
        }
      ]
    },
    {
      "cell_type": "code",
      "metadata": {
        "id": "a5h2ld-G35JI"
      },
      "source": [
        "temp_input = list(X_input)\n",
        "temp_input = temp_input[0].tolist()"
      ],
      "execution_count": 101,
      "outputs": []
    },
    {
      "cell_type": "code",
      "metadata": {
        "colab": {
          "base_uri": "https://localhost:8080/"
        },
        "id": "5oyg_iBH4Mlt",
        "outputId": "a9c0bb31-201c-4858-e04d-07bddf7968a0"
      },
      "source": [
        "lst_output=[]\n",
        "n_steps=100\n",
        "i=0\n",
        "while(i<30):\n",
        "  if(len(temp_input)>100):\n",
        "    #print(temp_input)\n",
        "    x_input=np.array(temp_input[1:])\n",
        "    print(\"{} day input {}\".format(i,x_input))\n",
        "    x_input=x_input.reshape(1,-1)\n",
        "    x_input = x_input.reshape((1, n_steps, 1))\n",
        "    #print(x_input)\n",
        "    yhat = model.predict(x_input, verbose=0)\n",
        "    print(\"{} day output {}\".format(i,yhat))\n",
        "    temp_input.extend(yhat[0].tolist())\n",
        "    temp_input=temp_input[1:]\n",
        "    print(temp_input)\n",
        "    lst_output.extend(yhat.tolist())\n",
        "    i=i+1\n",
        "  else:\n",
        "    X_input = X_input.reshape((1, n_steps,1))\n",
        "    yhat = model.predict(X_input, verbose=0)\n",
        "    print(yhat[0])\n",
        "    temp_input.extend(yhat[0].tolist())\n",
        "    print(len(temp_input))\n",
        "    lst_output.extend(yhat.tolist())\n",
        "    i=i+1\n",
        "    print(lst_output)\n"
      ],
      "execution_count": 102,
      "outputs": [
        {
          "output_type": "stream",
          "text": [
            "[0.2055042]\n",
            "101\n",
            "[[0.20550419390201569]]\n",
            "1 day input [0.30929031 0.34035188 0.30693569 0.32550564 0.32791852 0.32335007\n",
            " 0.31420346 0.3231316  0.32599598 0.32334521 0.32414627 0.34073056\n",
            " 0.34184233 0.33265203 0.31870394 0.29836196 0.32083038 0.3368418\n",
            " 0.32805445 0.32577266 0.32686015 0.33229277 0.32551535 0.30384313\n",
            " 0.30716387 0.30932915 0.29966793 0.30060492 0.29537621 0.29242443\n",
            " 0.25999379 0.25239103 0.27335444 0.24432221 0.24105972 0.26190176\n",
            " 0.24637097 0.23023333 0.2148142  0.20341007 0.18644224 0.24012759\n",
            " 0.23744769 0.25276    0.24991018 0.25680898 0.2417297  0.25383293\n",
            " 0.23021391 0.23104409 0.23838954 0.23458331 0.21910107 0.22401422\n",
            " 0.21348882 0.20988649 0.22169843 0.23738458 0.23438425 0.24860907\n",
            " 0.2488858  0.23886046 0.24508928 0.24179767 0.25391547 0.28320986\n",
            " 0.2686015  0.27181544 0.27226694 0.2600569  0.26217363 0.27437396\n",
            " 0.26251347 0.26722757 0.27149987 0.25525542 0.25023546 0.24178796\n",
            " 0.25753721 0.24562332 0.2401373  0.2388459  0.23525328 0.23954015\n",
            " 0.21850392 0.21275573 0.19949703 0.19066114 0.19942421 0.19315655\n",
            " 0.19366146 0.18666557 0.19798716 0.19512278 0.20753187 0.20668227\n",
            " 0.21369272 0.21938265 0.21664935 0.20550419]\n",
            "1 day output [[0.19413926]]\n",
            "[0.3092903125576517, 0.3403518822398508, 0.30693569216129873, 0.325505636524289, 0.32791851556962387, 0.3233500665119575, 0.3142034586217945, 0.3231315965782753, 0.32599598015322023, 0.3233452116245424, 0.3241462680480439, 0.3407305634582333, 0.3418423326763052, 0.3326520307994057, 0.3187039392556486, 0.29836196098612466, 0.320830379943489, 0.3368417986386895, 0.3280544524172484, 0.3257726553321228, 0.3268601501131188, 0.3322927691306838, 0.32551534629911927, 0.3038431288778413, 0.30716387186981126, 0.309329151656973, 0.299667925700803, 0.300604918971929, 0.29537620522580077, 0.29242443367738297, 0.25999378574410853, 0.25239103205196667, 0.2733544359106312, 0.24432220916796937, 0.24105972482498128, 0.26190175649826675, 0.24637097165716726, 0.2302333258891726, 0.2148142034586218, 0.20341007292040897, 0.18644224140442178, 0.2401275864412704, 0.23744768858810156, 0.2527600034955189, 0.2499101845828195, 0.25680897959976307, 0.24172969928827348, 0.2538329336142694, 0.23021390633951194, 0.23104409208750443, 0.23838953674664282, 0.23458330501315666, 0.21910106904620874, 0.22401421511035152, 0.21348881919428286, 0.20988649273223348, 0.22169843381331983, 0.23738457505170446, 0.2343842546291351, 0.24860907475555633, 0.24888580333822052, 0.2388604608259134, 0.24508928137956476, 0.24179766771208572, 0.25391546670032716, 0.2832098573634077, 0.26860150113118875, 0.2718154366000252, 0.2722669411296351, 0.2600568992805056, 0.26217363019351575, 0.27437396226781496, 0.26251347231257705, 0.2672275679926982, 0.27149986891803973, 0.25525541562691156, 0.25023546203963526, 0.24178795793725538, 0.25753721271203717, 0.24562331899523243, 0.2401372962161007, 0.23884589616366797, 0.23525327947644886, 0.23954014506403593, 0.21850391789414397, 0.21275573119459357, 0.1994970336637893, 0.1906611385681966, 0.19942421035256191, 0.19315655069958926, 0.19366145899076598, 0.18666556622551922, 0.19798716367767427, 0.19512278010272938, 0.2075318723358805, 0.20668226703822734, 0.21369272446571957, 0.21938265251628813, 0.21664935090155257, 0.20550419390201569, 0.1941392570734024]\n",
            "2 day input [0.34035188 0.30693569 0.32550564 0.32791852 0.32335007 0.31420346\n",
            " 0.3231316  0.32599598 0.32334521 0.32414627 0.34073056 0.34184233\n",
            " 0.33265203 0.31870394 0.29836196 0.32083038 0.3368418  0.32805445\n",
            " 0.32577266 0.32686015 0.33229277 0.32551535 0.30384313 0.30716387\n",
            " 0.30932915 0.29966793 0.30060492 0.29537621 0.29242443 0.25999379\n",
            " 0.25239103 0.27335444 0.24432221 0.24105972 0.26190176 0.24637097\n",
            " 0.23023333 0.2148142  0.20341007 0.18644224 0.24012759 0.23744769\n",
            " 0.25276    0.24991018 0.25680898 0.2417297  0.25383293 0.23021391\n",
            " 0.23104409 0.23838954 0.23458331 0.21910107 0.22401422 0.21348882\n",
            " 0.20988649 0.22169843 0.23738458 0.23438425 0.24860907 0.2488858\n",
            " 0.23886046 0.24508928 0.24179767 0.25391547 0.28320986 0.2686015\n",
            " 0.27181544 0.27226694 0.2600569  0.26217363 0.27437396 0.26251347\n",
            " 0.26722757 0.27149987 0.25525542 0.25023546 0.24178796 0.25753721\n",
            " 0.24562332 0.2401373  0.2388459  0.23525328 0.23954015 0.21850392\n",
            " 0.21275573 0.19949703 0.19066114 0.19942421 0.19315655 0.19366146\n",
            " 0.18666557 0.19798716 0.19512278 0.20753187 0.20668227 0.21369272\n",
            " 0.21938265 0.21664935 0.20550419 0.19413926]\n",
            "2 day output [[0.1831602]]\n",
            "[0.3403518822398508, 0.30693569216129873, 0.325505636524289, 0.32791851556962387, 0.3233500665119575, 0.3142034586217945, 0.3231315965782753, 0.32599598015322023, 0.3233452116245424, 0.3241462680480439, 0.3407305634582333, 0.3418423326763052, 0.3326520307994057, 0.3187039392556486, 0.29836196098612466, 0.320830379943489, 0.3368417986386895, 0.3280544524172484, 0.3257726553321228, 0.3268601501131188, 0.3322927691306838, 0.32551534629911927, 0.3038431288778413, 0.30716387186981126, 0.309329151656973, 0.299667925700803, 0.300604918971929, 0.29537620522580077, 0.29242443367738297, 0.25999378574410853, 0.25239103205196667, 0.2733544359106312, 0.24432220916796937, 0.24105972482498128, 0.26190175649826675, 0.24637097165716726, 0.2302333258891726, 0.2148142034586218, 0.20341007292040897, 0.18644224140442178, 0.2401275864412704, 0.23744768858810156, 0.2527600034955189, 0.2499101845828195, 0.25680897959976307, 0.24172969928827348, 0.2538329336142694, 0.23021390633951194, 0.23104409208750443, 0.23838953674664282, 0.23458330501315666, 0.21910106904620874, 0.22401421511035152, 0.21348881919428286, 0.20988649273223348, 0.22169843381331983, 0.23738457505170446, 0.2343842546291351, 0.24860907475555633, 0.24888580333822052, 0.2388604608259134, 0.24508928137956476, 0.24179766771208572, 0.25391546670032716, 0.2832098573634077, 0.26860150113118875, 0.2718154366000252, 0.2722669411296351, 0.2600568992805056, 0.26217363019351575, 0.27437396226781496, 0.26251347231257705, 0.2672275679926982, 0.27149986891803973, 0.25525541562691156, 0.25023546203963526, 0.24178795793725538, 0.25753721271203717, 0.24562331899523243, 0.2401372962161007, 0.23884589616366797, 0.23525327947644886, 0.23954014506403593, 0.21850391789414397, 0.21275573119459357, 0.1994970336637893, 0.1906611385681966, 0.19942421035256191, 0.19315655069958926, 0.19366145899076598, 0.18666556622551922, 0.19798716367767427, 0.19512278010272938, 0.2075318723358805, 0.20668226703822734, 0.21369272446571957, 0.21938265251628813, 0.21664935090155257, 0.20550419390201569, 0.1941392570734024, 0.183160200715065]\n",
            "3 day input [0.30693569 0.32550564 0.32791852 0.32335007 0.31420346 0.3231316\n",
            " 0.32599598 0.32334521 0.32414627 0.34073056 0.34184233 0.33265203\n",
            " 0.31870394 0.29836196 0.32083038 0.3368418  0.32805445 0.32577266\n",
            " 0.32686015 0.33229277 0.32551535 0.30384313 0.30716387 0.30932915\n",
            " 0.29966793 0.30060492 0.29537621 0.29242443 0.25999379 0.25239103\n",
            " 0.27335444 0.24432221 0.24105972 0.26190176 0.24637097 0.23023333\n",
            " 0.2148142  0.20341007 0.18644224 0.24012759 0.23744769 0.25276\n",
            " 0.24991018 0.25680898 0.2417297  0.25383293 0.23021391 0.23104409\n",
            " 0.23838954 0.23458331 0.21910107 0.22401422 0.21348882 0.20988649\n",
            " 0.22169843 0.23738458 0.23438425 0.24860907 0.2488858  0.23886046\n",
            " 0.24508928 0.24179767 0.25391547 0.28320986 0.2686015  0.27181544\n",
            " 0.27226694 0.2600569  0.26217363 0.27437396 0.26251347 0.26722757\n",
            " 0.27149987 0.25525542 0.25023546 0.24178796 0.25753721 0.24562332\n",
            " 0.2401373  0.2388459  0.23525328 0.23954015 0.21850392 0.21275573\n",
            " 0.19949703 0.19066114 0.19942421 0.19315655 0.19366146 0.18666557\n",
            " 0.19798716 0.19512278 0.20753187 0.20668227 0.21369272 0.21938265\n",
            " 0.21664935 0.20550419 0.19413926 0.1831602 ]\n",
            "3 day output [[0.17295012]]\n",
            "[0.30693569216129873, 0.325505636524289, 0.32791851556962387, 0.3233500665119575, 0.3142034586217945, 0.3231315965782753, 0.32599598015322023, 0.3233452116245424, 0.3241462680480439, 0.3407305634582333, 0.3418423326763052, 0.3326520307994057, 0.3187039392556486, 0.29836196098612466, 0.320830379943489, 0.3368417986386895, 0.3280544524172484, 0.3257726553321228, 0.3268601501131188, 0.3322927691306838, 0.32551534629911927, 0.3038431288778413, 0.30716387186981126, 0.309329151656973, 0.299667925700803, 0.300604918971929, 0.29537620522580077, 0.29242443367738297, 0.25999378574410853, 0.25239103205196667, 0.2733544359106312, 0.24432220916796937, 0.24105972482498128, 0.26190175649826675, 0.24637097165716726, 0.2302333258891726, 0.2148142034586218, 0.20341007292040897, 0.18644224140442178, 0.2401275864412704, 0.23744768858810156, 0.2527600034955189, 0.2499101845828195, 0.25680897959976307, 0.24172969928827348, 0.2538329336142694, 0.23021390633951194, 0.23104409208750443, 0.23838953674664282, 0.23458330501315666, 0.21910106904620874, 0.22401421511035152, 0.21348881919428286, 0.20988649273223348, 0.22169843381331983, 0.23738457505170446, 0.2343842546291351, 0.24860907475555633, 0.24888580333822052, 0.2388604608259134, 0.24508928137956476, 0.24179766771208572, 0.25391546670032716, 0.2832098573634077, 0.26860150113118875, 0.2718154366000252, 0.2722669411296351, 0.2600568992805056, 0.26217363019351575, 0.27437396226781496, 0.26251347231257705, 0.2672275679926982, 0.27149986891803973, 0.25525541562691156, 0.25023546203963526, 0.24178795793725538, 0.25753721271203717, 0.24562331899523243, 0.2401372962161007, 0.23884589616366797, 0.23525327947644886, 0.23954014506403593, 0.21850391789414397, 0.21275573119459357, 0.1994970336637893, 0.1906611385681966, 0.19942421035256191, 0.19315655069958926, 0.19366145899076598, 0.18666556622551922, 0.19798716367767427, 0.19512278010272938, 0.2075318723358805, 0.20668226703822734, 0.21369272446571957, 0.21938265251628813, 0.21664935090155257, 0.20550419390201569, 0.1941392570734024, 0.183160200715065, 0.1729501187801361]\n",
            "4 day input [0.32550564 0.32791852 0.32335007 0.31420346 0.3231316  0.32599598\n",
            " 0.32334521 0.32414627 0.34073056 0.34184233 0.33265203 0.31870394\n",
            " 0.29836196 0.32083038 0.3368418  0.32805445 0.32577266 0.32686015\n",
            " 0.33229277 0.32551535 0.30384313 0.30716387 0.30932915 0.29966793\n",
            " 0.30060492 0.29537621 0.29242443 0.25999379 0.25239103 0.27335444\n",
            " 0.24432221 0.24105972 0.26190176 0.24637097 0.23023333 0.2148142\n",
            " 0.20341007 0.18644224 0.24012759 0.23744769 0.25276    0.24991018\n",
            " 0.25680898 0.2417297  0.25383293 0.23021391 0.23104409 0.23838954\n",
            " 0.23458331 0.21910107 0.22401422 0.21348882 0.20988649 0.22169843\n",
            " 0.23738458 0.23438425 0.24860907 0.2488858  0.23886046 0.24508928\n",
            " 0.24179767 0.25391547 0.28320986 0.2686015  0.27181544 0.27226694\n",
            " 0.2600569  0.26217363 0.27437396 0.26251347 0.26722757 0.27149987\n",
            " 0.25525542 0.25023546 0.24178796 0.25753721 0.24562332 0.2401373\n",
            " 0.2388459  0.23525328 0.23954015 0.21850392 0.21275573 0.19949703\n",
            " 0.19066114 0.19942421 0.19315655 0.19366146 0.18666557 0.19798716\n",
            " 0.19512278 0.20753187 0.20668227 0.21369272 0.21938265 0.21664935\n",
            " 0.20550419 0.19413926 0.1831602  0.17295012]\n",
            "4 day output [[0.16350804]]\n",
            "[0.325505636524289, 0.32791851556962387, 0.3233500665119575, 0.3142034586217945, 0.3231315965782753, 0.32599598015322023, 0.3233452116245424, 0.3241462680480439, 0.3407305634582333, 0.3418423326763052, 0.3326520307994057, 0.3187039392556486, 0.29836196098612466, 0.320830379943489, 0.3368417986386895, 0.3280544524172484, 0.3257726553321228, 0.3268601501131188, 0.3322927691306838, 0.32551534629911927, 0.3038431288778413, 0.30716387186981126, 0.309329151656973, 0.299667925700803, 0.300604918971929, 0.29537620522580077, 0.29242443367738297, 0.25999378574410853, 0.25239103205196667, 0.2733544359106312, 0.24432220916796937, 0.24105972482498128, 0.26190175649826675, 0.24637097165716726, 0.2302333258891726, 0.2148142034586218, 0.20341007292040897, 0.18644224140442178, 0.2401275864412704, 0.23744768858810156, 0.2527600034955189, 0.2499101845828195, 0.25680897959976307, 0.24172969928827348, 0.2538329336142694, 0.23021390633951194, 0.23104409208750443, 0.23838953674664282, 0.23458330501315666, 0.21910106904620874, 0.22401421511035152, 0.21348881919428286, 0.20988649273223348, 0.22169843381331983, 0.23738457505170446, 0.2343842546291351, 0.24860907475555633, 0.24888580333822052, 0.2388604608259134, 0.24508928137956476, 0.24179766771208572, 0.25391546670032716, 0.2832098573634077, 0.26860150113118875, 0.2718154366000252, 0.2722669411296351, 0.2600568992805056, 0.26217363019351575, 0.27437396226781496, 0.26251347231257705, 0.2672275679926982, 0.27149986891803973, 0.25525541562691156, 0.25023546203963526, 0.24178795793725538, 0.25753721271203717, 0.24562331899523243, 0.2401372962161007, 0.23884589616366797, 0.23525327947644886, 0.23954014506403593, 0.21850391789414397, 0.21275573119459357, 0.1994970336637893, 0.1906611385681966, 0.19942421035256191, 0.19315655069958926, 0.19366145899076598, 0.18666556622551922, 0.19798716367767427, 0.19512278010272938, 0.2075318723358805, 0.20668226703822734, 0.21369272446571957, 0.21938265251628813, 0.21664935090155257, 0.20550419390201569, 0.1941392570734024, 0.183160200715065, 0.1729501187801361, 0.16350804269313812]\n",
            "5 day input [0.32791852 0.32335007 0.31420346 0.3231316  0.32599598 0.32334521\n",
            " 0.32414627 0.34073056 0.34184233 0.33265203 0.31870394 0.29836196\n",
            " 0.32083038 0.3368418  0.32805445 0.32577266 0.32686015 0.33229277\n",
            " 0.32551535 0.30384313 0.30716387 0.30932915 0.29966793 0.30060492\n",
            " 0.29537621 0.29242443 0.25999379 0.25239103 0.27335444 0.24432221\n",
            " 0.24105972 0.26190176 0.24637097 0.23023333 0.2148142  0.20341007\n",
            " 0.18644224 0.24012759 0.23744769 0.25276    0.24991018 0.25680898\n",
            " 0.2417297  0.25383293 0.23021391 0.23104409 0.23838954 0.23458331\n",
            " 0.21910107 0.22401422 0.21348882 0.20988649 0.22169843 0.23738458\n",
            " 0.23438425 0.24860907 0.2488858  0.23886046 0.24508928 0.24179767\n",
            " 0.25391547 0.28320986 0.2686015  0.27181544 0.27226694 0.2600569\n",
            " 0.26217363 0.27437396 0.26251347 0.26722757 0.27149987 0.25525542\n",
            " 0.25023546 0.24178796 0.25753721 0.24562332 0.2401373  0.2388459\n",
            " 0.23525328 0.23954015 0.21850392 0.21275573 0.19949703 0.19066114\n",
            " 0.19942421 0.19315655 0.19366146 0.18666557 0.19798716 0.19512278\n",
            " 0.20753187 0.20668227 0.21369272 0.21938265 0.21664935 0.20550419\n",
            " 0.19413926 0.1831602  0.17295012 0.16350804]\n",
            "5 day output [[0.15486254]]\n",
            "[0.32791851556962387, 0.3233500665119575, 0.3142034586217945, 0.3231315965782753, 0.32599598015322023, 0.3233452116245424, 0.3241462680480439, 0.3407305634582333, 0.3418423326763052, 0.3326520307994057, 0.3187039392556486, 0.29836196098612466, 0.320830379943489, 0.3368417986386895, 0.3280544524172484, 0.3257726553321228, 0.3268601501131188, 0.3322927691306838, 0.32551534629911927, 0.3038431288778413, 0.30716387186981126, 0.309329151656973, 0.299667925700803, 0.300604918971929, 0.29537620522580077, 0.29242443367738297, 0.25999378574410853, 0.25239103205196667, 0.2733544359106312, 0.24432220916796937, 0.24105972482498128, 0.26190175649826675, 0.24637097165716726, 0.2302333258891726, 0.2148142034586218, 0.20341007292040897, 0.18644224140442178, 0.2401275864412704, 0.23744768858810156, 0.2527600034955189, 0.2499101845828195, 0.25680897959976307, 0.24172969928827348, 0.2538329336142694, 0.23021390633951194, 0.23104409208750443, 0.23838953674664282, 0.23458330501315666, 0.21910106904620874, 0.22401421511035152, 0.21348881919428286, 0.20988649273223348, 0.22169843381331983, 0.23738457505170446, 0.2343842546291351, 0.24860907475555633, 0.24888580333822052, 0.2388604608259134, 0.24508928137956476, 0.24179766771208572, 0.25391546670032716, 0.2832098573634077, 0.26860150113118875, 0.2718154366000252, 0.2722669411296351, 0.2600568992805056, 0.26217363019351575, 0.27437396226781496, 0.26251347231257705, 0.2672275679926982, 0.27149986891803973, 0.25525541562691156, 0.25023546203963526, 0.24178795793725538, 0.25753721271203717, 0.24562331899523243, 0.2401372962161007, 0.23884589616366797, 0.23525327947644886, 0.23954014506403593, 0.21850391789414397, 0.21275573119459357, 0.1994970336637893, 0.1906611385681966, 0.19942421035256191, 0.19315655069958926, 0.19366145899076598, 0.18666556622551922, 0.19798716367767427, 0.19512278010272938, 0.2075318723358805, 0.20668226703822734, 0.21369272446571957, 0.21938265251628813, 0.21664935090155257, 0.20550419390201569, 0.1941392570734024, 0.183160200715065, 0.1729501187801361, 0.16350804269313812, 0.15486253798007965]\n",
            "6 day input [0.32335007 0.31420346 0.3231316  0.32599598 0.32334521 0.32414627\n",
            " 0.34073056 0.34184233 0.33265203 0.31870394 0.29836196 0.32083038\n",
            " 0.3368418  0.32805445 0.32577266 0.32686015 0.33229277 0.32551535\n",
            " 0.30384313 0.30716387 0.30932915 0.29966793 0.30060492 0.29537621\n",
            " 0.29242443 0.25999379 0.25239103 0.27335444 0.24432221 0.24105972\n",
            " 0.26190176 0.24637097 0.23023333 0.2148142  0.20341007 0.18644224\n",
            " 0.24012759 0.23744769 0.25276    0.24991018 0.25680898 0.2417297\n",
            " 0.25383293 0.23021391 0.23104409 0.23838954 0.23458331 0.21910107\n",
            " 0.22401422 0.21348882 0.20988649 0.22169843 0.23738458 0.23438425\n",
            " 0.24860907 0.2488858  0.23886046 0.24508928 0.24179767 0.25391547\n",
            " 0.28320986 0.2686015  0.27181544 0.27226694 0.2600569  0.26217363\n",
            " 0.27437396 0.26251347 0.26722757 0.27149987 0.25525542 0.25023546\n",
            " 0.24178796 0.25753721 0.24562332 0.2401373  0.2388459  0.23525328\n",
            " 0.23954015 0.21850392 0.21275573 0.19949703 0.19066114 0.19942421\n",
            " 0.19315655 0.19366146 0.18666557 0.19798716 0.19512278 0.20753187\n",
            " 0.20668227 0.21369272 0.21938265 0.21664935 0.20550419 0.19413926\n",
            " 0.1831602  0.17295012 0.16350804 0.15486254]\n",
            "6 day output [[0.14711268]]\n",
            "[0.3233500665119575, 0.3142034586217945, 0.3231315965782753, 0.32599598015322023, 0.3233452116245424, 0.3241462680480439, 0.3407305634582333, 0.3418423326763052, 0.3326520307994057, 0.3187039392556486, 0.29836196098612466, 0.320830379943489, 0.3368417986386895, 0.3280544524172484, 0.3257726553321228, 0.3268601501131188, 0.3322927691306838, 0.32551534629911927, 0.3038431288778413, 0.30716387186981126, 0.309329151656973, 0.299667925700803, 0.300604918971929, 0.29537620522580077, 0.29242443367738297, 0.25999378574410853, 0.25239103205196667, 0.2733544359106312, 0.24432220916796937, 0.24105972482498128, 0.26190175649826675, 0.24637097165716726, 0.2302333258891726, 0.2148142034586218, 0.20341007292040897, 0.18644224140442178, 0.2401275864412704, 0.23744768858810156, 0.2527600034955189, 0.2499101845828195, 0.25680897959976307, 0.24172969928827348, 0.2538329336142694, 0.23021390633951194, 0.23104409208750443, 0.23838953674664282, 0.23458330501315666, 0.21910106904620874, 0.22401421511035152, 0.21348881919428286, 0.20988649273223348, 0.22169843381331983, 0.23738457505170446, 0.2343842546291351, 0.24860907475555633, 0.24888580333822052, 0.2388604608259134, 0.24508928137956476, 0.24179766771208572, 0.25391546670032716, 0.2832098573634077, 0.26860150113118875, 0.2718154366000252, 0.2722669411296351, 0.2600568992805056, 0.26217363019351575, 0.27437396226781496, 0.26251347231257705, 0.2672275679926982, 0.27149986891803973, 0.25525541562691156, 0.25023546203963526, 0.24178795793725538, 0.25753721271203717, 0.24562331899523243, 0.2401372962161007, 0.23884589616366797, 0.23525327947644886, 0.23954014506403593, 0.21850391789414397, 0.21275573119459357, 0.1994970336637893, 0.1906611385681966, 0.19942421035256191, 0.19315655069958926, 0.19366145899076598, 0.18666556622551922, 0.19798716367767427, 0.19512278010272938, 0.2075318723358805, 0.20668226703822734, 0.21369272446571957, 0.21938265251628813, 0.21664935090155257, 0.20550419390201569, 0.1941392570734024, 0.183160200715065, 0.1729501187801361, 0.16350804269313812, 0.15486253798007965, 0.1471126824617386]\n",
            "7 day input [0.31420346 0.3231316  0.32599598 0.32334521 0.32414627 0.34073056\n",
            " 0.34184233 0.33265203 0.31870394 0.29836196 0.32083038 0.3368418\n",
            " 0.32805445 0.32577266 0.32686015 0.33229277 0.32551535 0.30384313\n",
            " 0.30716387 0.30932915 0.29966793 0.30060492 0.29537621 0.29242443\n",
            " 0.25999379 0.25239103 0.27335444 0.24432221 0.24105972 0.26190176\n",
            " 0.24637097 0.23023333 0.2148142  0.20341007 0.18644224 0.24012759\n",
            " 0.23744769 0.25276    0.24991018 0.25680898 0.2417297  0.25383293\n",
            " 0.23021391 0.23104409 0.23838954 0.23458331 0.21910107 0.22401422\n",
            " 0.21348882 0.20988649 0.22169843 0.23738458 0.23438425 0.24860907\n",
            " 0.2488858  0.23886046 0.24508928 0.24179767 0.25391547 0.28320986\n",
            " 0.2686015  0.27181544 0.27226694 0.2600569  0.26217363 0.27437396\n",
            " 0.26251347 0.26722757 0.27149987 0.25525542 0.25023546 0.24178796\n",
            " 0.25753721 0.24562332 0.2401373  0.2388459  0.23525328 0.23954015\n",
            " 0.21850392 0.21275573 0.19949703 0.19066114 0.19942421 0.19315655\n",
            " 0.19366146 0.18666557 0.19798716 0.19512278 0.20753187 0.20668227\n",
            " 0.21369272 0.21938265 0.21664935 0.20550419 0.19413926 0.1831602\n",
            " 0.17295012 0.16350804 0.15486254 0.14711268]\n",
            "7 day output [[0.14038113]]\n",
            "[0.3142034586217945, 0.3231315965782753, 0.32599598015322023, 0.3233452116245424, 0.3241462680480439, 0.3407305634582333, 0.3418423326763052, 0.3326520307994057, 0.3187039392556486, 0.29836196098612466, 0.320830379943489, 0.3368417986386895, 0.3280544524172484, 0.3257726553321228, 0.3268601501131188, 0.3322927691306838, 0.32551534629911927, 0.3038431288778413, 0.30716387186981126, 0.309329151656973, 0.299667925700803, 0.300604918971929, 0.29537620522580077, 0.29242443367738297, 0.25999378574410853, 0.25239103205196667, 0.2733544359106312, 0.24432220916796937, 0.24105972482498128, 0.26190175649826675, 0.24637097165716726, 0.2302333258891726, 0.2148142034586218, 0.20341007292040897, 0.18644224140442178, 0.2401275864412704, 0.23744768858810156, 0.2527600034955189, 0.2499101845828195, 0.25680897959976307, 0.24172969928827348, 0.2538329336142694, 0.23021390633951194, 0.23104409208750443, 0.23838953674664282, 0.23458330501315666, 0.21910106904620874, 0.22401421511035152, 0.21348881919428286, 0.20988649273223348, 0.22169843381331983, 0.23738457505170446, 0.2343842546291351, 0.24860907475555633, 0.24888580333822052, 0.2388604608259134, 0.24508928137956476, 0.24179766771208572, 0.25391546670032716, 0.2832098573634077, 0.26860150113118875, 0.2718154366000252, 0.2722669411296351, 0.2600568992805056, 0.26217363019351575, 0.27437396226781496, 0.26251347231257705, 0.2672275679926982, 0.27149986891803973, 0.25525541562691156, 0.25023546203963526, 0.24178795793725538, 0.25753721271203717, 0.24562331899523243, 0.2401372962161007, 0.23884589616366797, 0.23525327947644886, 0.23954014506403593, 0.21850391789414397, 0.21275573119459357, 0.1994970336637893, 0.1906611385681966, 0.19942421035256191, 0.19315655069958926, 0.19366145899076598, 0.18666556622551922, 0.19798716367767427, 0.19512278010272938, 0.2075318723358805, 0.20668226703822734, 0.21369272446571957, 0.21938265251628813, 0.21664935090155257, 0.20550419390201569, 0.1941392570734024, 0.183160200715065, 0.1729501187801361, 0.16350804269313812, 0.15486253798007965, 0.1471126824617386, 0.1403811275959015]\n",
            "8 day input [0.3231316  0.32599598 0.32334521 0.32414627 0.34073056 0.34184233\n",
            " 0.33265203 0.31870394 0.29836196 0.32083038 0.3368418  0.32805445\n",
            " 0.32577266 0.32686015 0.33229277 0.32551535 0.30384313 0.30716387\n",
            " 0.30932915 0.29966793 0.30060492 0.29537621 0.29242443 0.25999379\n",
            " 0.25239103 0.27335444 0.24432221 0.24105972 0.26190176 0.24637097\n",
            " 0.23023333 0.2148142  0.20341007 0.18644224 0.24012759 0.23744769\n",
            " 0.25276    0.24991018 0.25680898 0.2417297  0.25383293 0.23021391\n",
            " 0.23104409 0.23838954 0.23458331 0.21910107 0.22401422 0.21348882\n",
            " 0.20988649 0.22169843 0.23738458 0.23438425 0.24860907 0.2488858\n",
            " 0.23886046 0.24508928 0.24179767 0.25391547 0.28320986 0.2686015\n",
            " 0.27181544 0.27226694 0.2600569  0.26217363 0.27437396 0.26251347\n",
            " 0.26722757 0.27149987 0.25525542 0.25023546 0.24178796 0.25753721\n",
            " 0.24562332 0.2401373  0.2388459  0.23525328 0.23954015 0.21850392\n",
            " 0.21275573 0.19949703 0.19066114 0.19942421 0.19315655 0.19366146\n",
            " 0.18666557 0.19798716 0.19512278 0.20753187 0.20668227 0.21369272\n",
            " 0.21938265 0.21664935 0.20550419 0.19413926 0.1831602  0.17295012\n",
            " 0.16350804 0.15486254 0.14711268 0.14038113]\n",
            "8 day output [[0.13475229]]\n",
            "[0.3231315965782753, 0.32599598015322023, 0.3233452116245424, 0.3241462680480439, 0.3407305634582333, 0.3418423326763052, 0.3326520307994057, 0.3187039392556486, 0.29836196098612466, 0.320830379943489, 0.3368417986386895, 0.3280544524172484, 0.3257726553321228, 0.3268601501131188, 0.3322927691306838, 0.32551534629911927, 0.3038431288778413, 0.30716387186981126, 0.309329151656973, 0.299667925700803, 0.300604918971929, 0.29537620522580077, 0.29242443367738297, 0.25999378574410853, 0.25239103205196667, 0.2733544359106312, 0.24432220916796937, 0.24105972482498128, 0.26190175649826675, 0.24637097165716726, 0.2302333258891726, 0.2148142034586218, 0.20341007292040897, 0.18644224140442178, 0.2401275864412704, 0.23744768858810156, 0.2527600034955189, 0.2499101845828195, 0.25680897959976307, 0.24172969928827348, 0.2538329336142694, 0.23021390633951194, 0.23104409208750443, 0.23838953674664282, 0.23458330501315666, 0.21910106904620874, 0.22401421511035152, 0.21348881919428286, 0.20988649273223348, 0.22169843381331983, 0.23738457505170446, 0.2343842546291351, 0.24860907475555633, 0.24888580333822052, 0.2388604608259134, 0.24508928137956476, 0.24179766771208572, 0.25391546670032716, 0.2832098573634077, 0.26860150113118875, 0.2718154366000252, 0.2722669411296351, 0.2600568992805056, 0.26217363019351575, 0.27437396226781496, 0.26251347231257705, 0.2672275679926982, 0.27149986891803973, 0.25525541562691156, 0.25023546203963526, 0.24178795793725538, 0.25753721271203717, 0.24562331899523243, 0.2401372962161007, 0.23884589616366797, 0.23525327947644886, 0.23954014506403593, 0.21850391789414397, 0.21275573119459357, 0.1994970336637893, 0.1906611385681966, 0.19942421035256191, 0.19315655069958926, 0.19366145899076598, 0.18666556622551922, 0.19798716367767427, 0.19512278010272938, 0.2075318723358805, 0.20668226703822734, 0.21369272446571957, 0.21938265251628813, 0.21664935090155257, 0.20550419390201569, 0.1941392570734024, 0.183160200715065, 0.1729501187801361, 0.16350804269313812, 0.15486253798007965, 0.1471126824617386, 0.1403811275959015, 0.1347522884607315]\n",
            "9 day input [0.32599598 0.32334521 0.32414627 0.34073056 0.34184233 0.33265203\n",
            " 0.31870394 0.29836196 0.32083038 0.3368418  0.32805445 0.32577266\n",
            " 0.32686015 0.33229277 0.32551535 0.30384313 0.30716387 0.30932915\n",
            " 0.29966793 0.30060492 0.29537621 0.29242443 0.25999379 0.25239103\n",
            " 0.27335444 0.24432221 0.24105972 0.26190176 0.24637097 0.23023333\n",
            " 0.2148142  0.20341007 0.18644224 0.24012759 0.23744769 0.25276\n",
            " 0.24991018 0.25680898 0.2417297  0.25383293 0.23021391 0.23104409\n",
            " 0.23838954 0.23458331 0.21910107 0.22401422 0.21348882 0.20988649\n",
            " 0.22169843 0.23738458 0.23438425 0.24860907 0.2488858  0.23886046\n",
            " 0.24508928 0.24179767 0.25391547 0.28320986 0.2686015  0.27181544\n",
            " 0.27226694 0.2600569  0.26217363 0.27437396 0.26251347 0.26722757\n",
            " 0.27149987 0.25525542 0.25023546 0.24178796 0.25753721 0.24562332\n",
            " 0.2401373  0.2388459  0.23525328 0.23954015 0.21850392 0.21275573\n",
            " 0.19949703 0.19066114 0.19942421 0.19315655 0.19366146 0.18666557\n",
            " 0.19798716 0.19512278 0.20753187 0.20668227 0.21369272 0.21938265\n",
            " 0.21664935 0.20550419 0.19413926 0.1831602  0.17295012 0.16350804\n",
            " 0.15486254 0.14711268 0.14038113 0.13475229]\n",
            "9 day output [[0.13023749]]\n",
            "[0.32599598015322023, 0.3233452116245424, 0.3241462680480439, 0.3407305634582333, 0.3418423326763052, 0.3326520307994057, 0.3187039392556486, 0.29836196098612466, 0.320830379943489, 0.3368417986386895, 0.3280544524172484, 0.3257726553321228, 0.3268601501131188, 0.3322927691306838, 0.32551534629911927, 0.3038431288778413, 0.30716387186981126, 0.309329151656973, 0.299667925700803, 0.300604918971929, 0.29537620522580077, 0.29242443367738297, 0.25999378574410853, 0.25239103205196667, 0.2733544359106312, 0.24432220916796937, 0.24105972482498128, 0.26190175649826675, 0.24637097165716726, 0.2302333258891726, 0.2148142034586218, 0.20341007292040897, 0.18644224140442178, 0.2401275864412704, 0.23744768858810156, 0.2527600034955189, 0.2499101845828195, 0.25680897959976307, 0.24172969928827348, 0.2538329336142694, 0.23021390633951194, 0.23104409208750443, 0.23838953674664282, 0.23458330501315666, 0.21910106904620874, 0.22401421511035152, 0.21348881919428286, 0.20988649273223348, 0.22169843381331983, 0.23738457505170446, 0.2343842546291351, 0.24860907475555633, 0.24888580333822052, 0.2388604608259134, 0.24508928137956476, 0.24179766771208572, 0.25391546670032716, 0.2832098573634077, 0.26860150113118875, 0.2718154366000252, 0.2722669411296351, 0.2600568992805056, 0.26217363019351575, 0.27437396226781496, 0.26251347231257705, 0.2672275679926982, 0.27149986891803973, 0.25525541562691156, 0.25023546203963526, 0.24178795793725538, 0.25753721271203717, 0.24562331899523243, 0.2401372962161007, 0.23884589616366797, 0.23525327947644886, 0.23954014506403593, 0.21850391789414397, 0.21275573119459357, 0.1994970336637893, 0.1906611385681966, 0.19942421035256191, 0.19315655069958926, 0.19366145899076598, 0.18666556622551922, 0.19798716367767427, 0.19512278010272938, 0.2075318723358805, 0.20668226703822734, 0.21369272446571957, 0.21938265251628813, 0.21664935090155257, 0.20550419390201569, 0.1941392570734024, 0.183160200715065, 0.1729501187801361, 0.16350804269313812, 0.15486253798007965, 0.1471126824617386, 0.1403811275959015, 0.1347522884607315, 0.13023748993873596]\n",
            "10 day input [0.32334521 0.32414627 0.34073056 0.34184233 0.33265203 0.31870394\n",
            " 0.29836196 0.32083038 0.3368418  0.32805445 0.32577266 0.32686015\n",
            " 0.33229277 0.32551535 0.30384313 0.30716387 0.30932915 0.29966793\n",
            " 0.30060492 0.29537621 0.29242443 0.25999379 0.25239103 0.27335444\n",
            " 0.24432221 0.24105972 0.26190176 0.24637097 0.23023333 0.2148142\n",
            " 0.20341007 0.18644224 0.24012759 0.23744769 0.25276    0.24991018\n",
            " 0.25680898 0.2417297  0.25383293 0.23021391 0.23104409 0.23838954\n",
            " 0.23458331 0.21910107 0.22401422 0.21348882 0.20988649 0.22169843\n",
            " 0.23738458 0.23438425 0.24860907 0.2488858  0.23886046 0.24508928\n",
            " 0.24179767 0.25391547 0.28320986 0.2686015  0.27181544 0.27226694\n",
            " 0.2600569  0.26217363 0.27437396 0.26251347 0.26722757 0.27149987\n",
            " 0.25525542 0.25023546 0.24178796 0.25753721 0.24562332 0.2401373\n",
            " 0.2388459  0.23525328 0.23954015 0.21850392 0.21275573 0.19949703\n",
            " 0.19066114 0.19942421 0.19315655 0.19366146 0.18666557 0.19798716\n",
            " 0.19512278 0.20753187 0.20668227 0.21369272 0.21938265 0.21664935\n",
            " 0.20550419 0.19413926 0.1831602  0.17295012 0.16350804 0.15486254\n",
            " 0.14711268 0.14038113 0.13475229 0.13023749]\n",
            "10 day output [[0.12677306]]\n",
            "[0.3233452116245424, 0.3241462680480439, 0.3407305634582333, 0.3418423326763052, 0.3326520307994057, 0.3187039392556486, 0.29836196098612466, 0.320830379943489, 0.3368417986386895, 0.3280544524172484, 0.3257726553321228, 0.3268601501131188, 0.3322927691306838, 0.32551534629911927, 0.3038431288778413, 0.30716387186981126, 0.309329151656973, 0.299667925700803, 0.300604918971929, 0.29537620522580077, 0.29242443367738297, 0.25999378574410853, 0.25239103205196667, 0.2733544359106312, 0.24432220916796937, 0.24105972482498128, 0.26190175649826675, 0.24637097165716726, 0.2302333258891726, 0.2148142034586218, 0.20341007292040897, 0.18644224140442178, 0.2401275864412704, 0.23744768858810156, 0.2527600034955189, 0.2499101845828195, 0.25680897959976307, 0.24172969928827348, 0.2538329336142694, 0.23021390633951194, 0.23104409208750443, 0.23838953674664282, 0.23458330501315666, 0.21910106904620874, 0.22401421511035152, 0.21348881919428286, 0.20988649273223348, 0.22169843381331983, 0.23738457505170446, 0.2343842546291351, 0.24860907475555633, 0.24888580333822052, 0.2388604608259134, 0.24508928137956476, 0.24179766771208572, 0.25391546670032716, 0.2832098573634077, 0.26860150113118875, 0.2718154366000252, 0.2722669411296351, 0.2600568992805056, 0.26217363019351575, 0.27437396226781496, 0.26251347231257705, 0.2672275679926982, 0.27149986891803973, 0.25525541562691156, 0.25023546203963526, 0.24178795793725538, 0.25753721271203717, 0.24562331899523243, 0.2401372962161007, 0.23884589616366797, 0.23525327947644886, 0.23954014506403593, 0.21850391789414397, 0.21275573119459357, 0.1994970336637893, 0.1906611385681966, 0.19942421035256191, 0.19315655069958926, 0.19366145899076598, 0.18666556622551922, 0.19798716367767427, 0.19512278010272938, 0.2075318723358805, 0.20668226703822734, 0.21369272446571957, 0.21938265251628813, 0.21664935090155257, 0.20550419390201569, 0.1941392570734024, 0.183160200715065, 0.1729501187801361, 0.16350804269313812, 0.15486253798007965, 0.1471126824617386, 0.1403811275959015, 0.1347522884607315, 0.13023748993873596, 0.12677305936813354]\n",
            "11 day input [0.32414627 0.34073056 0.34184233 0.33265203 0.31870394 0.29836196\n",
            " 0.32083038 0.3368418  0.32805445 0.32577266 0.32686015 0.33229277\n",
            " 0.32551535 0.30384313 0.30716387 0.30932915 0.29966793 0.30060492\n",
            " 0.29537621 0.29242443 0.25999379 0.25239103 0.27335444 0.24432221\n",
            " 0.24105972 0.26190176 0.24637097 0.23023333 0.2148142  0.20341007\n",
            " 0.18644224 0.24012759 0.23744769 0.25276    0.24991018 0.25680898\n",
            " 0.2417297  0.25383293 0.23021391 0.23104409 0.23838954 0.23458331\n",
            " 0.21910107 0.22401422 0.21348882 0.20988649 0.22169843 0.23738458\n",
            " 0.23438425 0.24860907 0.2488858  0.23886046 0.24508928 0.24179767\n",
            " 0.25391547 0.28320986 0.2686015  0.27181544 0.27226694 0.2600569\n",
            " 0.26217363 0.27437396 0.26251347 0.26722757 0.27149987 0.25525542\n",
            " 0.25023546 0.24178796 0.25753721 0.24562332 0.2401373  0.2388459\n",
            " 0.23525328 0.23954015 0.21850392 0.21275573 0.19949703 0.19066114\n",
            " 0.19942421 0.19315655 0.19366146 0.18666557 0.19798716 0.19512278\n",
            " 0.20753187 0.20668227 0.21369272 0.21938265 0.21664935 0.20550419\n",
            " 0.19413926 0.1831602  0.17295012 0.16350804 0.15486254 0.14711268\n",
            " 0.14038113 0.13475229 0.13023749 0.12677306]\n",
            "11 day output [[0.12423927]]\n",
            "[0.3241462680480439, 0.3407305634582333, 0.3418423326763052, 0.3326520307994057, 0.3187039392556486, 0.29836196098612466, 0.320830379943489, 0.3368417986386895, 0.3280544524172484, 0.3257726553321228, 0.3268601501131188, 0.3322927691306838, 0.32551534629911927, 0.3038431288778413, 0.30716387186981126, 0.309329151656973, 0.299667925700803, 0.300604918971929, 0.29537620522580077, 0.29242443367738297, 0.25999378574410853, 0.25239103205196667, 0.2733544359106312, 0.24432220916796937, 0.24105972482498128, 0.26190175649826675, 0.24637097165716726, 0.2302333258891726, 0.2148142034586218, 0.20341007292040897, 0.18644224140442178, 0.2401275864412704, 0.23744768858810156, 0.2527600034955189, 0.2499101845828195, 0.25680897959976307, 0.24172969928827348, 0.2538329336142694, 0.23021390633951194, 0.23104409208750443, 0.23838953674664282, 0.23458330501315666, 0.21910106904620874, 0.22401421511035152, 0.21348881919428286, 0.20988649273223348, 0.22169843381331983, 0.23738457505170446, 0.2343842546291351, 0.24860907475555633, 0.24888580333822052, 0.2388604608259134, 0.24508928137956476, 0.24179766771208572, 0.25391546670032716, 0.2832098573634077, 0.26860150113118875, 0.2718154366000252, 0.2722669411296351, 0.2600568992805056, 0.26217363019351575, 0.27437396226781496, 0.26251347231257705, 0.2672275679926982, 0.27149986891803973, 0.25525541562691156, 0.25023546203963526, 0.24178795793725538, 0.25753721271203717, 0.24562331899523243, 0.2401372962161007, 0.23884589616366797, 0.23525327947644886, 0.23954014506403593, 0.21850391789414397, 0.21275573119459357, 0.1994970336637893, 0.1906611385681966, 0.19942421035256191, 0.19315655069958926, 0.19366145899076598, 0.18666556622551922, 0.19798716367767427, 0.19512278010272938, 0.2075318723358805, 0.20668226703822734, 0.21369272446571957, 0.21938265251628813, 0.21664935090155257, 0.20550419390201569, 0.1941392570734024, 0.183160200715065, 0.1729501187801361, 0.16350804269313812, 0.15486253798007965, 0.1471126824617386, 0.1403811275959015, 0.1347522884607315, 0.13023748993873596, 0.12677305936813354, 0.12423926591873169]\n",
            "12 day input [0.34073056 0.34184233 0.33265203 0.31870394 0.29836196 0.32083038\n",
            " 0.3368418  0.32805445 0.32577266 0.32686015 0.33229277 0.32551535\n",
            " 0.30384313 0.30716387 0.30932915 0.29966793 0.30060492 0.29537621\n",
            " 0.29242443 0.25999379 0.25239103 0.27335444 0.24432221 0.24105972\n",
            " 0.26190176 0.24637097 0.23023333 0.2148142  0.20341007 0.18644224\n",
            " 0.24012759 0.23744769 0.25276    0.24991018 0.25680898 0.2417297\n",
            " 0.25383293 0.23021391 0.23104409 0.23838954 0.23458331 0.21910107\n",
            " 0.22401422 0.21348882 0.20988649 0.22169843 0.23738458 0.23438425\n",
            " 0.24860907 0.2488858  0.23886046 0.24508928 0.24179767 0.25391547\n",
            " 0.28320986 0.2686015  0.27181544 0.27226694 0.2600569  0.26217363\n",
            " 0.27437396 0.26251347 0.26722757 0.27149987 0.25525542 0.25023546\n",
            " 0.24178796 0.25753721 0.24562332 0.2401373  0.2388459  0.23525328\n",
            " 0.23954015 0.21850392 0.21275573 0.19949703 0.19066114 0.19942421\n",
            " 0.19315655 0.19366146 0.18666557 0.19798716 0.19512278 0.20753187\n",
            " 0.20668227 0.21369272 0.21938265 0.21664935 0.20550419 0.19413926\n",
            " 0.1831602  0.17295012 0.16350804 0.15486254 0.14711268 0.14038113\n",
            " 0.13475229 0.13023749 0.12677306 0.12423927]\n",
            "12 day output [[0.12248541]]\n",
            "[0.3407305634582333, 0.3418423326763052, 0.3326520307994057, 0.3187039392556486, 0.29836196098612466, 0.320830379943489, 0.3368417986386895, 0.3280544524172484, 0.3257726553321228, 0.3268601501131188, 0.3322927691306838, 0.32551534629911927, 0.3038431288778413, 0.30716387186981126, 0.309329151656973, 0.299667925700803, 0.300604918971929, 0.29537620522580077, 0.29242443367738297, 0.25999378574410853, 0.25239103205196667, 0.2733544359106312, 0.24432220916796937, 0.24105972482498128, 0.26190175649826675, 0.24637097165716726, 0.2302333258891726, 0.2148142034586218, 0.20341007292040897, 0.18644224140442178, 0.2401275864412704, 0.23744768858810156, 0.2527600034955189, 0.2499101845828195, 0.25680897959976307, 0.24172969928827348, 0.2538329336142694, 0.23021390633951194, 0.23104409208750443, 0.23838953674664282, 0.23458330501315666, 0.21910106904620874, 0.22401421511035152, 0.21348881919428286, 0.20988649273223348, 0.22169843381331983, 0.23738457505170446, 0.2343842546291351, 0.24860907475555633, 0.24888580333822052, 0.2388604608259134, 0.24508928137956476, 0.24179766771208572, 0.25391546670032716, 0.2832098573634077, 0.26860150113118875, 0.2718154366000252, 0.2722669411296351, 0.2600568992805056, 0.26217363019351575, 0.27437396226781496, 0.26251347231257705, 0.2672275679926982, 0.27149986891803973, 0.25525541562691156, 0.25023546203963526, 0.24178795793725538, 0.25753721271203717, 0.24562331899523243, 0.2401372962161007, 0.23884589616366797, 0.23525327947644886, 0.23954014506403593, 0.21850391789414397, 0.21275573119459357, 0.1994970336637893, 0.1906611385681966, 0.19942421035256191, 0.19315655069958926, 0.19366145899076598, 0.18666556622551922, 0.19798716367767427, 0.19512278010272938, 0.2075318723358805, 0.20668226703822734, 0.21369272446571957, 0.21938265251628813, 0.21664935090155257, 0.20550419390201569, 0.1941392570734024, 0.183160200715065, 0.1729501187801361, 0.16350804269313812, 0.15486253798007965, 0.1471126824617386, 0.1403811275959015, 0.1347522884607315, 0.13023748993873596, 0.12677305936813354, 0.12423926591873169, 0.12248541414737701]\n",
            "13 day input [0.34184233 0.33265203 0.31870394 0.29836196 0.32083038 0.3368418\n",
            " 0.32805445 0.32577266 0.32686015 0.33229277 0.32551535 0.30384313\n",
            " 0.30716387 0.30932915 0.29966793 0.30060492 0.29537621 0.29242443\n",
            " 0.25999379 0.25239103 0.27335444 0.24432221 0.24105972 0.26190176\n",
            " 0.24637097 0.23023333 0.2148142  0.20341007 0.18644224 0.24012759\n",
            " 0.23744769 0.25276    0.24991018 0.25680898 0.2417297  0.25383293\n",
            " 0.23021391 0.23104409 0.23838954 0.23458331 0.21910107 0.22401422\n",
            " 0.21348882 0.20988649 0.22169843 0.23738458 0.23438425 0.24860907\n",
            " 0.2488858  0.23886046 0.24508928 0.24179767 0.25391547 0.28320986\n",
            " 0.2686015  0.27181544 0.27226694 0.2600569  0.26217363 0.27437396\n",
            " 0.26251347 0.26722757 0.27149987 0.25525542 0.25023546 0.24178796\n",
            " 0.25753721 0.24562332 0.2401373  0.2388459  0.23525328 0.23954015\n",
            " 0.21850392 0.21275573 0.19949703 0.19066114 0.19942421 0.19315655\n",
            " 0.19366146 0.18666557 0.19798716 0.19512278 0.20753187 0.20668227\n",
            " 0.21369272 0.21938265 0.21664935 0.20550419 0.19413926 0.1831602\n",
            " 0.17295012 0.16350804 0.15486254 0.14711268 0.14038113 0.13475229\n",
            " 0.13023749 0.12677306 0.12423927 0.12248541]\n",
            "13 day output [[0.12135158]]\n",
            "[0.3418423326763052, 0.3326520307994057, 0.3187039392556486, 0.29836196098612466, 0.320830379943489, 0.3368417986386895, 0.3280544524172484, 0.3257726553321228, 0.3268601501131188, 0.3322927691306838, 0.32551534629911927, 0.3038431288778413, 0.30716387186981126, 0.309329151656973, 0.299667925700803, 0.300604918971929, 0.29537620522580077, 0.29242443367738297, 0.25999378574410853, 0.25239103205196667, 0.2733544359106312, 0.24432220916796937, 0.24105972482498128, 0.26190175649826675, 0.24637097165716726, 0.2302333258891726, 0.2148142034586218, 0.20341007292040897, 0.18644224140442178, 0.2401275864412704, 0.23744768858810156, 0.2527600034955189, 0.2499101845828195, 0.25680897959976307, 0.24172969928827348, 0.2538329336142694, 0.23021390633951194, 0.23104409208750443, 0.23838953674664282, 0.23458330501315666, 0.21910106904620874, 0.22401421511035152, 0.21348881919428286, 0.20988649273223348, 0.22169843381331983, 0.23738457505170446, 0.2343842546291351, 0.24860907475555633, 0.24888580333822052, 0.2388604608259134, 0.24508928137956476, 0.24179766771208572, 0.25391546670032716, 0.2832098573634077, 0.26860150113118875, 0.2718154366000252, 0.2722669411296351, 0.2600568992805056, 0.26217363019351575, 0.27437396226781496, 0.26251347231257705, 0.2672275679926982, 0.27149986891803973, 0.25525541562691156, 0.25023546203963526, 0.24178795793725538, 0.25753721271203717, 0.24562331899523243, 0.2401372962161007, 0.23884589616366797, 0.23525327947644886, 0.23954014506403593, 0.21850391789414397, 0.21275573119459357, 0.1994970336637893, 0.1906611385681966, 0.19942421035256191, 0.19315655069958926, 0.19366145899076598, 0.18666556622551922, 0.19798716367767427, 0.19512278010272938, 0.2075318723358805, 0.20668226703822734, 0.21369272446571957, 0.21938265251628813, 0.21664935090155257, 0.20550419390201569, 0.1941392570734024, 0.183160200715065, 0.1729501187801361, 0.16350804269313812, 0.15486253798007965, 0.1471126824617386, 0.1403811275959015, 0.1347522884607315, 0.13023748993873596, 0.12677305936813354, 0.12423926591873169, 0.12248541414737701, 0.12135158479213715]\n",
            "14 day input [0.33265203 0.31870394 0.29836196 0.32083038 0.3368418  0.32805445\n",
            " 0.32577266 0.32686015 0.33229277 0.32551535 0.30384313 0.30716387\n",
            " 0.30932915 0.29966793 0.30060492 0.29537621 0.29242443 0.25999379\n",
            " 0.25239103 0.27335444 0.24432221 0.24105972 0.26190176 0.24637097\n",
            " 0.23023333 0.2148142  0.20341007 0.18644224 0.24012759 0.23744769\n",
            " 0.25276    0.24991018 0.25680898 0.2417297  0.25383293 0.23021391\n",
            " 0.23104409 0.23838954 0.23458331 0.21910107 0.22401422 0.21348882\n",
            " 0.20988649 0.22169843 0.23738458 0.23438425 0.24860907 0.2488858\n",
            " 0.23886046 0.24508928 0.24179767 0.25391547 0.28320986 0.2686015\n",
            " 0.27181544 0.27226694 0.2600569  0.26217363 0.27437396 0.26251347\n",
            " 0.26722757 0.27149987 0.25525542 0.25023546 0.24178796 0.25753721\n",
            " 0.24562332 0.2401373  0.2388459  0.23525328 0.23954015 0.21850392\n",
            " 0.21275573 0.19949703 0.19066114 0.19942421 0.19315655 0.19366146\n",
            " 0.18666557 0.19798716 0.19512278 0.20753187 0.20668227 0.21369272\n",
            " 0.21938265 0.21664935 0.20550419 0.19413926 0.1831602  0.17295012\n",
            " 0.16350804 0.15486254 0.14711268 0.14038113 0.13475229 0.13023749\n",
            " 0.12677306 0.12423927 0.12248541 0.12135158]\n",
            "14 day output [[0.12068373]]\n",
            "[0.3326520307994057, 0.3187039392556486, 0.29836196098612466, 0.320830379943489, 0.3368417986386895, 0.3280544524172484, 0.3257726553321228, 0.3268601501131188, 0.3322927691306838, 0.32551534629911927, 0.3038431288778413, 0.30716387186981126, 0.309329151656973, 0.299667925700803, 0.300604918971929, 0.29537620522580077, 0.29242443367738297, 0.25999378574410853, 0.25239103205196667, 0.2733544359106312, 0.24432220916796937, 0.24105972482498128, 0.26190175649826675, 0.24637097165716726, 0.2302333258891726, 0.2148142034586218, 0.20341007292040897, 0.18644224140442178, 0.2401275864412704, 0.23744768858810156, 0.2527600034955189, 0.2499101845828195, 0.25680897959976307, 0.24172969928827348, 0.2538329336142694, 0.23021390633951194, 0.23104409208750443, 0.23838953674664282, 0.23458330501315666, 0.21910106904620874, 0.22401421511035152, 0.21348881919428286, 0.20988649273223348, 0.22169843381331983, 0.23738457505170446, 0.2343842546291351, 0.24860907475555633, 0.24888580333822052, 0.2388604608259134, 0.24508928137956476, 0.24179766771208572, 0.25391546670032716, 0.2832098573634077, 0.26860150113118875, 0.2718154366000252, 0.2722669411296351, 0.2600568992805056, 0.26217363019351575, 0.27437396226781496, 0.26251347231257705, 0.2672275679926982, 0.27149986891803973, 0.25525541562691156, 0.25023546203963526, 0.24178795793725538, 0.25753721271203717, 0.24562331899523243, 0.2401372962161007, 0.23884589616366797, 0.23525327947644886, 0.23954014506403593, 0.21850391789414397, 0.21275573119459357, 0.1994970336637893, 0.1906611385681966, 0.19942421035256191, 0.19315655069958926, 0.19366145899076598, 0.18666556622551922, 0.19798716367767427, 0.19512278010272938, 0.2075318723358805, 0.20668226703822734, 0.21369272446571957, 0.21938265251628813, 0.21664935090155257, 0.20550419390201569, 0.1941392570734024, 0.183160200715065, 0.1729501187801361, 0.16350804269313812, 0.15486253798007965, 0.1471126824617386, 0.1403811275959015, 0.1347522884607315, 0.13023748993873596, 0.12677305936813354, 0.12423926591873169, 0.12248541414737701, 0.12135158479213715, 0.12068372964859009]\n",
            "15 day input [0.31870394 0.29836196 0.32083038 0.3368418  0.32805445 0.32577266\n",
            " 0.32686015 0.33229277 0.32551535 0.30384313 0.30716387 0.30932915\n",
            " 0.29966793 0.30060492 0.29537621 0.29242443 0.25999379 0.25239103\n",
            " 0.27335444 0.24432221 0.24105972 0.26190176 0.24637097 0.23023333\n",
            " 0.2148142  0.20341007 0.18644224 0.24012759 0.23744769 0.25276\n",
            " 0.24991018 0.25680898 0.2417297  0.25383293 0.23021391 0.23104409\n",
            " 0.23838954 0.23458331 0.21910107 0.22401422 0.21348882 0.20988649\n",
            " 0.22169843 0.23738458 0.23438425 0.24860907 0.2488858  0.23886046\n",
            " 0.24508928 0.24179767 0.25391547 0.28320986 0.2686015  0.27181544\n",
            " 0.27226694 0.2600569  0.26217363 0.27437396 0.26251347 0.26722757\n",
            " 0.27149987 0.25525542 0.25023546 0.24178796 0.25753721 0.24562332\n",
            " 0.2401373  0.2388459  0.23525328 0.23954015 0.21850392 0.21275573\n",
            " 0.19949703 0.19066114 0.19942421 0.19315655 0.19366146 0.18666557\n",
            " 0.19798716 0.19512278 0.20753187 0.20668227 0.21369272 0.21938265\n",
            " 0.21664935 0.20550419 0.19413926 0.1831602  0.17295012 0.16350804\n",
            " 0.15486254 0.14711268 0.14038113 0.13475229 0.13023749 0.12677306\n",
            " 0.12423927 0.12248541 0.12135158 0.12068373]\n",
            "15 day output [[0.12034258]]\n",
            "[0.3187039392556486, 0.29836196098612466, 0.320830379943489, 0.3368417986386895, 0.3280544524172484, 0.3257726553321228, 0.3268601501131188, 0.3322927691306838, 0.32551534629911927, 0.3038431288778413, 0.30716387186981126, 0.309329151656973, 0.299667925700803, 0.300604918971929, 0.29537620522580077, 0.29242443367738297, 0.25999378574410853, 0.25239103205196667, 0.2733544359106312, 0.24432220916796937, 0.24105972482498128, 0.26190175649826675, 0.24637097165716726, 0.2302333258891726, 0.2148142034586218, 0.20341007292040897, 0.18644224140442178, 0.2401275864412704, 0.23744768858810156, 0.2527600034955189, 0.2499101845828195, 0.25680897959976307, 0.24172969928827348, 0.2538329336142694, 0.23021390633951194, 0.23104409208750443, 0.23838953674664282, 0.23458330501315666, 0.21910106904620874, 0.22401421511035152, 0.21348881919428286, 0.20988649273223348, 0.22169843381331983, 0.23738457505170446, 0.2343842546291351, 0.24860907475555633, 0.24888580333822052, 0.2388604608259134, 0.24508928137956476, 0.24179766771208572, 0.25391546670032716, 0.2832098573634077, 0.26860150113118875, 0.2718154366000252, 0.2722669411296351, 0.2600568992805056, 0.26217363019351575, 0.27437396226781496, 0.26251347231257705, 0.2672275679926982, 0.27149986891803973, 0.25525541562691156, 0.25023546203963526, 0.24178795793725538, 0.25753721271203717, 0.24562331899523243, 0.2401372962161007, 0.23884589616366797, 0.23525327947644886, 0.23954014506403593, 0.21850391789414397, 0.21275573119459357, 0.1994970336637893, 0.1906611385681966, 0.19942421035256191, 0.19315655069958926, 0.19366145899076598, 0.18666556622551922, 0.19798716367767427, 0.19512278010272938, 0.2075318723358805, 0.20668226703822734, 0.21369272446571957, 0.21938265251628813, 0.21664935090155257, 0.20550419390201569, 0.1941392570734024, 0.183160200715065, 0.1729501187801361, 0.16350804269313812, 0.15486253798007965, 0.1471126824617386, 0.1403811275959015, 0.1347522884607315, 0.13023748993873596, 0.12677305936813354, 0.12423926591873169, 0.12248541414737701, 0.12135158479213715, 0.12068372964859009, 0.12034258246421814]\n",
            "16 day input [0.29836196 0.32083038 0.3368418  0.32805445 0.32577266 0.32686015\n",
            " 0.33229277 0.32551535 0.30384313 0.30716387 0.30932915 0.29966793\n",
            " 0.30060492 0.29537621 0.29242443 0.25999379 0.25239103 0.27335444\n",
            " 0.24432221 0.24105972 0.26190176 0.24637097 0.23023333 0.2148142\n",
            " 0.20341007 0.18644224 0.24012759 0.23744769 0.25276    0.24991018\n",
            " 0.25680898 0.2417297  0.25383293 0.23021391 0.23104409 0.23838954\n",
            " 0.23458331 0.21910107 0.22401422 0.21348882 0.20988649 0.22169843\n",
            " 0.23738458 0.23438425 0.24860907 0.2488858  0.23886046 0.24508928\n",
            " 0.24179767 0.25391547 0.28320986 0.2686015  0.27181544 0.27226694\n",
            " 0.2600569  0.26217363 0.27437396 0.26251347 0.26722757 0.27149987\n",
            " 0.25525542 0.25023546 0.24178796 0.25753721 0.24562332 0.2401373\n",
            " 0.2388459  0.23525328 0.23954015 0.21850392 0.21275573 0.19949703\n",
            " 0.19066114 0.19942421 0.19315655 0.19366146 0.18666557 0.19798716\n",
            " 0.19512278 0.20753187 0.20668227 0.21369272 0.21938265 0.21664935\n",
            " 0.20550419 0.19413926 0.1831602  0.17295012 0.16350804 0.15486254\n",
            " 0.14711268 0.14038113 0.13475229 0.13023749 0.12677306 0.12423927\n",
            " 0.12248541 0.12135158 0.12068373 0.12034258]\n",
            "16 day output [[0.12020801]]\n",
            "[0.29836196098612466, 0.320830379943489, 0.3368417986386895, 0.3280544524172484, 0.3257726553321228, 0.3268601501131188, 0.3322927691306838, 0.32551534629911927, 0.3038431288778413, 0.30716387186981126, 0.309329151656973, 0.299667925700803, 0.300604918971929, 0.29537620522580077, 0.29242443367738297, 0.25999378574410853, 0.25239103205196667, 0.2733544359106312, 0.24432220916796937, 0.24105972482498128, 0.26190175649826675, 0.24637097165716726, 0.2302333258891726, 0.2148142034586218, 0.20341007292040897, 0.18644224140442178, 0.2401275864412704, 0.23744768858810156, 0.2527600034955189, 0.2499101845828195, 0.25680897959976307, 0.24172969928827348, 0.2538329336142694, 0.23021390633951194, 0.23104409208750443, 0.23838953674664282, 0.23458330501315666, 0.21910106904620874, 0.22401421511035152, 0.21348881919428286, 0.20988649273223348, 0.22169843381331983, 0.23738457505170446, 0.2343842546291351, 0.24860907475555633, 0.24888580333822052, 0.2388604608259134, 0.24508928137956476, 0.24179766771208572, 0.25391546670032716, 0.2832098573634077, 0.26860150113118875, 0.2718154366000252, 0.2722669411296351, 0.2600568992805056, 0.26217363019351575, 0.27437396226781496, 0.26251347231257705, 0.2672275679926982, 0.27149986891803973, 0.25525541562691156, 0.25023546203963526, 0.24178795793725538, 0.25753721271203717, 0.24562331899523243, 0.2401372962161007, 0.23884589616366797, 0.23525327947644886, 0.23954014506403593, 0.21850391789414397, 0.21275573119459357, 0.1994970336637893, 0.1906611385681966, 0.19942421035256191, 0.19315655069958926, 0.19366145899076598, 0.18666556622551922, 0.19798716367767427, 0.19512278010272938, 0.2075318723358805, 0.20668226703822734, 0.21369272446571957, 0.21938265251628813, 0.21664935090155257, 0.20550419390201569, 0.1941392570734024, 0.183160200715065, 0.1729501187801361, 0.16350804269313812, 0.15486253798007965, 0.1471126824617386, 0.1403811275959015, 0.1347522884607315, 0.13023748993873596, 0.12677305936813354, 0.12423926591873169, 0.12248541414737701, 0.12135158479213715, 0.12068372964859009, 0.12034258246421814, 0.1202080100774765]\n",
            "17 day input [0.32083038 0.3368418  0.32805445 0.32577266 0.32686015 0.33229277\n",
            " 0.32551535 0.30384313 0.30716387 0.30932915 0.29966793 0.30060492\n",
            " 0.29537621 0.29242443 0.25999379 0.25239103 0.27335444 0.24432221\n",
            " 0.24105972 0.26190176 0.24637097 0.23023333 0.2148142  0.20341007\n",
            " 0.18644224 0.24012759 0.23744769 0.25276    0.24991018 0.25680898\n",
            " 0.2417297  0.25383293 0.23021391 0.23104409 0.23838954 0.23458331\n",
            " 0.21910107 0.22401422 0.21348882 0.20988649 0.22169843 0.23738458\n",
            " 0.23438425 0.24860907 0.2488858  0.23886046 0.24508928 0.24179767\n",
            " 0.25391547 0.28320986 0.2686015  0.27181544 0.27226694 0.2600569\n",
            " 0.26217363 0.27437396 0.26251347 0.26722757 0.27149987 0.25525542\n",
            " 0.25023546 0.24178796 0.25753721 0.24562332 0.2401373  0.2388459\n",
            " 0.23525328 0.23954015 0.21850392 0.21275573 0.19949703 0.19066114\n",
            " 0.19942421 0.19315655 0.19366146 0.18666557 0.19798716 0.19512278\n",
            " 0.20753187 0.20668227 0.21369272 0.21938265 0.21664935 0.20550419\n",
            " 0.19413926 0.1831602  0.17295012 0.16350804 0.15486254 0.14711268\n",
            " 0.14038113 0.13475229 0.13023749 0.12677306 0.12423927 0.12248541\n",
            " 0.12135158 0.12068373 0.12034258 0.12020801]\n",
            "17 day output [[0.12018056]]\n",
            "[0.320830379943489, 0.3368417986386895, 0.3280544524172484, 0.3257726553321228, 0.3268601501131188, 0.3322927691306838, 0.32551534629911927, 0.3038431288778413, 0.30716387186981126, 0.309329151656973, 0.299667925700803, 0.300604918971929, 0.29537620522580077, 0.29242443367738297, 0.25999378574410853, 0.25239103205196667, 0.2733544359106312, 0.24432220916796937, 0.24105972482498128, 0.26190175649826675, 0.24637097165716726, 0.2302333258891726, 0.2148142034586218, 0.20341007292040897, 0.18644224140442178, 0.2401275864412704, 0.23744768858810156, 0.2527600034955189, 0.2499101845828195, 0.25680897959976307, 0.24172969928827348, 0.2538329336142694, 0.23021390633951194, 0.23104409208750443, 0.23838953674664282, 0.23458330501315666, 0.21910106904620874, 0.22401421511035152, 0.21348881919428286, 0.20988649273223348, 0.22169843381331983, 0.23738457505170446, 0.2343842546291351, 0.24860907475555633, 0.24888580333822052, 0.2388604608259134, 0.24508928137956476, 0.24179766771208572, 0.25391546670032716, 0.2832098573634077, 0.26860150113118875, 0.2718154366000252, 0.2722669411296351, 0.2600568992805056, 0.26217363019351575, 0.27437396226781496, 0.26251347231257705, 0.2672275679926982, 0.27149986891803973, 0.25525541562691156, 0.25023546203963526, 0.24178795793725538, 0.25753721271203717, 0.24562331899523243, 0.2401372962161007, 0.23884589616366797, 0.23525327947644886, 0.23954014506403593, 0.21850391789414397, 0.21275573119459357, 0.1994970336637893, 0.1906611385681966, 0.19942421035256191, 0.19315655069958926, 0.19366145899076598, 0.18666556622551922, 0.19798716367767427, 0.19512278010272938, 0.2075318723358805, 0.20668226703822734, 0.21369272446571957, 0.21938265251628813, 0.21664935090155257, 0.20550419390201569, 0.1941392570734024, 0.183160200715065, 0.1729501187801361, 0.16350804269313812, 0.15486253798007965, 0.1471126824617386, 0.1403811275959015, 0.1347522884607315, 0.13023748993873596, 0.12677305936813354, 0.12423926591873169, 0.12248541414737701, 0.12135158479213715, 0.12068372964859009, 0.12034258246421814, 0.1202080100774765, 0.12018056213855743]\n",
            "18 day input [0.3368418  0.32805445 0.32577266 0.32686015 0.33229277 0.32551535\n",
            " 0.30384313 0.30716387 0.30932915 0.29966793 0.30060492 0.29537621\n",
            " 0.29242443 0.25999379 0.25239103 0.27335444 0.24432221 0.24105972\n",
            " 0.26190176 0.24637097 0.23023333 0.2148142  0.20341007 0.18644224\n",
            " 0.24012759 0.23744769 0.25276    0.24991018 0.25680898 0.2417297\n",
            " 0.25383293 0.23021391 0.23104409 0.23838954 0.23458331 0.21910107\n",
            " 0.22401422 0.21348882 0.20988649 0.22169843 0.23738458 0.23438425\n",
            " 0.24860907 0.2488858  0.23886046 0.24508928 0.24179767 0.25391547\n",
            " 0.28320986 0.2686015  0.27181544 0.27226694 0.2600569  0.26217363\n",
            " 0.27437396 0.26251347 0.26722757 0.27149987 0.25525542 0.25023546\n",
            " 0.24178796 0.25753721 0.24562332 0.2401373  0.2388459  0.23525328\n",
            " 0.23954015 0.21850392 0.21275573 0.19949703 0.19066114 0.19942421\n",
            " 0.19315655 0.19366146 0.18666557 0.19798716 0.19512278 0.20753187\n",
            " 0.20668227 0.21369272 0.21938265 0.21664935 0.20550419 0.19413926\n",
            " 0.1831602  0.17295012 0.16350804 0.15486254 0.14711268 0.14038113\n",
            " 0.13475229 0.13023749 0.12677306 0.12423927 0.12248541 0.12135158\n",
            " 0.12068373 0.12034258 0.12020801 0.12018056]\n",
            "18 day output [[0.12018202]]\n",
            "[0.3368417986386895, 0.3280544524172484, 0.3257726553321228, 0.3268601501131188, 0.3322927691306838, 0.32551534629911927, 0.3038431288778413, 0.30716387186981126, 0.309329151656973, 0.299667925700803, 0.300604918971929, 0.29537620522580077, 0.29242443367738297, 0.25999378574410853, 0.25239103205196667, 0.2733544359106312, 0.24432220916796937, 0.24105972482498128, 0.26190175649826675, 0.24637097165716726, 0.2302333258891726, 0.2148142034586218, 0.20341007292040897, 0.18644224140442178, 0.2401275864412704, 0.23744768858810156, 0.2527600034955189, 0.2499101845828195, 0.25680897959976307, 0.24172969928827348, 0.2538329336142694, 0.23021390633951194, 0.23104409208750443, 0.23838953674664282, 0.23458330501315666, 0.21910106904620874, 0.22401421511035152, 0.21348881919428286, 0.20988649273223348, 0.22169843381331983, 0.23738457505170446, 0.2343842546291351, 0.24860907475555633, 0.24888580333822052, 0.2388604608259134, 0.24508928137956476, 0.24179766771208572, 0.25391546670032716, 0.2832098573634077, 0.26860150113118875, 0.2718154366000252, 0.2722669411296351, 0.2600568992805056, 0.26217363019351575, 0.27437396226781496, 0.26251347231257705, 0.2672275679926982, 0.27149986891803973, 0.25525541562691156, 0.25023546203963526, 0.24178795793725538, 0.25753721271203717, 0.24562331899523243, 0.2401372962161007, 0.23884589616366797, 0.23525327947644886, 0.23954014506403593, 0.21850391789414397, 0.21275573119459357, 0.1994970336637893, 0.1906611385681966, 0.19942421035256191, 0.19315655069958926, 0.19366145899076598, 0.18666556622551922, 0.19798716367767427, 0.19512278010272938, 0.2075318723358805, 0.20668226703822734, 0.21369272446571957, 0.21938265251628813, 0.21664935090155257, 0.20550419390201569, 0.1941392570734024, 0.183160200715065, 0.1729501187801361, 0.16350804269313812, 0.15486253798007965, 0.1471126824617386, 0.1403811275959015, 0.1347522884607315, 0.13023748993873596, 0.12677305936813354, 0.12423926591873169, 0.12248541414737701, 0.12135158479213715, 0.12068372964859009, 0.12034258246421814, 0.1202080100774765, 0.12018056213855743, 0.12018202245235443]\n",
            "19 day input [0.32805445 0.32577266 0.32686015 0.33229277 0.32551535 0.30384313\n",
            " 0.30716387 0.30932915 0.29966793 0.30060492 0.29537621 0.29242443\n",
            " 0.25999379 0.25239103 0.27335444 0.24432221 0.24105972 0.26190176\n",
            " 0.24637097 0.23023333 0.2148142  0.20341007 0.18644224 0.24012759\n",
            " 0.23744769 0.25276    0.24991018 0.25680898 0.2417297  0.25383293\n",
            " 0.23021391 0.23104409 0.23838954 0.23458331 0.21910107 0.22401422\n",
            " 0.21348882 0.20988649 0.22169843 0.23738458 0.23438425 0.24860907\n",
            " 0.2488858  0.23886046 0.24508928 0.24179767 0.25391547 0.28320986\n",
            " 0.2686015  0.27181544 0.27226694 0.2600569  0.26217363 0.27437396\n",
            " 0.26251347 0.26722757 0.27149987 0.25525542 0.25023546 0.24178796\n",
            " 0.25753721 0.24562332 0.2401373  0.2388459  0.23525328 0.23954015\n",
            " 0.21850392 0.21275573 0.19949703 0.19066114 0.19942421 0.19315655\n",
            " 0.19366146 0.18666557 0.19798716 0.19512278 0.20753187 0.20668227\n",
            " 0.21369272 0.21938265 0.21664935 0.20550419 0.19413926 0.1831602\n",
            " 0.17295012 0.16350804 0.15486254 0.14711268 0.14038113 0.13475229\n",
            " 0.13023749 0.12677306 0.12423927 0.12248541 0.12135158 0.12068373\n",
            " 0.12034258 0.12020801 0.12018056 0.12018202]\n",
            "19 day output [[0.12015446]]\n",
            "[0.3280544524172484, 0.3257726553321228, 0.3268601501131188, 0.3322927691306838, 0.32551534629911927, 0.3038431288778413, 0.30716387186981126, 0.309329151656973, 0.299667925700803, 0.300604918971929, 0.29537620522580077, 0.29242443367738297, 0.25999378574410853, 0.25239103205196667, 0.2733544359106312, 0.24432220916796937, 0.24105972482498128, 0.26190175649826675, 0.24637097165716726, 0.2302333258891726, 0.2148142034586218, 0.20341007292040897, 0.18644224140442178, 0.2401275864412704, 0.23744768858810156, 0.2527600034955189, 0.2499101845828195, 0.25680897959976307, 0.24172969928827348, 0.2538329336142694, 0.23021390633951194, 0.23104409208750443, 0.23838953674664282, 0.23458330501315666, 0.21910106904620874, 0.22401421511035152, 0.21348881919428286, 0.20988649273223348, 0.22169843381331983, 0.23738457505170446, 0.2343842546291351, 0.24860907475555633, 0.24888580333822052, 0.2388604608259134, 0.24508928137956476, 0.24179766771208572, 0.25391546670032716, 0.2832098573634077, 0.26860150113118875, 0.2718154366000252, 0.2722669411296351, 0.2600568992805056, 0.26217363019351575, 0.27437396226781496, 0.26251347231257705, 0.2672275679926982, 0.27149986891803973, 0.25525541562691156, 0.25023546203963526, 0.24178795793725538, 0.25753721271203717, 0.24562331899523243, 0.2401372962161007, 0.23884589616366797, 0.23525327947644886, 0.23954014506403593, 0.21850391789414397, 0.21275573119459357, 0.1994970336637893, 0.1906611385681966, 0.19942421035256191, 0.19315655069958926, 0.19366145899076598, 0.18666556622551922, 0.19798716367767427, 0.19512278010272938, 0.2075318723358805, 0.20668226703822734, 0.21369272446571957, 0.21938265251628813, 0.21664935090155257, 0.20550419390201569, 0.1941392570734024, 0.183160200715065, 0.1729501187801361, 0.16350804269313812, 0.15486253798007965, 0.1471126824617386, 0.1403811275959015, 0.1347522884607315, 0.13023748993873596, 0.12677305936813354, 0.12423926591873169, 0.12248541414737701, 0.12135158479213715, 0.12068372964859009, 0.12034258246421814, 0.1202080100774765, 0.12018056213855743, 0.12018202245235443, 0.12015445530414581]\n",
            "20 day input [0.32577266 0.32686015 0.33229277 0.32551535 0.30384313 0.30716387\n",
            " 0.30932915 0.29966793 0.30060492 0.29537621 0.29242443 0.25999379\n",
            " 0.25239103 0.27335444 0.24432221 0.24105972 0.26190176 0.24637097\n",
            " 0.23023333 0.2148142  0.20341007 0.18644224 0.24012759 0.23744769\n",
            " 0.25276    0.24991018 0.25680898 0.2417297  0.25383293 0.23021391\n",
            " 0.23104409 0.23838954 0.23458331 0.21910107 0.22401422 0.21348882\n",
            " 0.20988649 0.22169843 0.23738458 0.23438425 0.24860907 0.2488858\n",
            " 0.23886046 0.24508928 0.24179767 0.25391547 0.28320986 0.2686015\n",
            " 0.27181544 0.27226694 0.2600569  0.26217363 0.27437396 0.26251347\n",
            " 0.26722757 0.27149987 0.25525542 0.25023546 0.24178796 0.25753721\n",
            " 0.24562332 0.2401373  0.2388459  0.23525328 0.23954015 0.21850392\n",
            " 0.21275573 0.19949703 0.19066114 0.19942421 0.19315655 0.19366146\n",
            " 0.18666557 0.19798716 0.19512278 0.20753187 0.20668227 0.21369272\n",
            " 0.21938265 0.21664935 0.20550419 0.19413926 0.1831602  0.17295012\n",
            " 0.16350804 0.15486254 0.14711268 0.14038113 0.13475229 0.13023749\n",
            " 0.12677306 0.12423927 0.12248541 0.12135158 0.12068373 0.12034258\n",
            " 0.12020801 0.12018056 0.12018202 0.12015446]\n",
            "20 day output [[0.12005879]]\n",
            "[0.3257726553321228, 0.3268601501131188, 0.3322927691306838, 0.32551534629911927, 0.3038431288778413, 0.30716387186981126, 0.309329151656973, 0.299667925700803, 0.300604918971929, 0.29537620522580077, 0.29242443367738297, 0.25999378574410853, 0.25239103205196667, 0.2733544359106312, 0.24432220916796937, 0.24105972482498128, 0.26190175649826675, 0.24637097165716726, 0.2302333258891726, 0.2148142034586218, 0.20341007292040897, 0.18644224140442178, 0.2401275864412704, 0.23744768858810156, 0.2527600034955189, 0.2499101845828195, 0.25680897959976307, 0.24172969928827348, 0.2538329336142694, 0.23021390633951194, 0.23104409208750443, 0.23838953674664282, 0.23458330501315666, 0.21910106904620874, 0.22401421511035152, 0.21348881919428286, 0.20988649273223348, 0.22169843381331983, 0.23738457505170446, 0.2343842546291351, 0.24860907475555633, 0.24888580333822052, 0.2388604608259134, 0.24508928137956476, 0.24179766771208572, 0.25391546670032716, 0.2832098573634077, 0.26860150113118875, 0.2718154366000252, 0.2722669411296351, 0.2600568992805056, 0.26217363019351575, 0.27437396226781496, 0.26251347231257705, 0.2672275679926982, 0.27149986891803973, 0.25525541562691156, 0.25023546203963526, 0.24178795793725538, 0.25753721271203717, 0.24562331899523243, 0.2401372962161007, 0.23884589616366797, 0.23525327947644886, 0.23954014506403593, 0.21850391789414397, 0.21275573119459357, 0.1994970336637893, 0.1906611385681966, 0.19942421035256191, 0.19315655069958926, 0.19366145899076598, 0.18666556622551922, 0.19798716367767427, 0.19512278010272938, 0.2075318723358805, 0.20668226703822734, 0.21369272446571957, 0.21938265251628813, 0.21664935090155257, 0.20550419390201569, 0.1941392570734024, 0.183160200715065, 0.1729501187801361, 0.16350804269313812, 0.15486253798007965, 0.1471126824617386, 0.1403811275959015, 0.1347522884607315, 0.13023748993873596, 0.12677305936813354, 0.12423926591873169, 0.12248541414737701, 0.12135158479213715, 0.12068372964859009, 0.12034258246421814, 0.1202080100774765, 0.12018056213855743, 0.12018202245235443, 0.12015445530414581, 0.12005878984928131]\n",
            "21 day input [0.32686015 0.33229277 0.32551535 0.30384313 0.30716387 0.30932915\n",
            " 0.29966793 0.30060492 0.29537621 0.29242443 0.25999379 0.25239103\n",
            " 0.27335444 0.24432221 0.24105972 0.26190176 0.24637097 0.23023333\n",
            " 0.2148142  0.20341007 0.18644224 0.24012759 0.23744769 0.25276\n",
            " 0.24991018 0.25680898 0.2417297  0.25383293 0.23021391 0.23104409\n",
            " 0.23838954 0.23458331 0.21910107 0.22401422 0.21348882 0.20988649\n",
            " 0.22169843 0.23738458 0.23438425 0.24860907 0.2488858  0.23886046\n",
            " 0.24508928 0.24179767 0.25391547 0.28320986 0.2686015  0.27181544\n",
            " 0.27226694 0.2600569  0.26217363 0.27437396 0.26251347 0.26722757\n",
            " 0.27149987 0.25525542 0.25023546 0.24178796 0.25753721 0.24562332\n",
            " 0.2401373  0.2388459  0.23525328 0.23954015 0.21850392 0.21275573\n",
            " 0.19949703 0.19066114 0.19942421 0.19315655 0.19366146 0.18666557\n",
            " 0.19798716 0.19512278 0.20753187 0.20668227 0.21369272 0.21938265\n",
            " 0.21664935 0.20550419 0.19413926 0.1831602  0.17295012 0.16350804\n",
            " 0.15486254 0.14711268 0.14038113 0.13475229 0.13023749 0.12677306\n",
            " 0.12423927 0.12248541 0.12135158 0.12068373 0.12034258 0.12020801\n",
            " 0.12018056 0.12018202 0.12015446 0.12005879]\n",
            "21 day output [[0.11987281]]\n",
            "[0.3268601501131188, 0.3322927691306838, 0.32551534629911927, 0.3038431288778413, 0.30716387186981126, 0.309329151656973, 0.299667925700803, 0.300604918971929, 0.29537620522580077, 0.29242443367738297, 0.25999378574410853, 0.25239103205196667, 0.2733544359106312, 0.24432220916796937, 0.24105972482498128, 0.26190175649826675, 0.24637097165716726, 0.2302333258891726, 0.2148142034586218, 0.20341007292040897, 0.18644224140442178, 0.2401275864412704, 0.23744768858810156, 0.2527600034955189, 0.2499101845828195, 0.25680897959976307, 0.24172969928827348, 0.2538329336142694, 0.23021390633951194, 0.23104409208750443, 0.23838953674664282, 0.23458330501315666, 0.21910106904620874, 0.22401421511035152, 0.21348881919428286, 0.20988649273223348, 0.22169843381331983, 0.23738457505170446, 0.2343842546291351, 0.24860907475555633, 0.24888580333822052, 0.2388604608259134, 0.24508928137956476, 0.24179766771208572, 0.25391546670032716, 0.2832098573634077, 0.26860150113118875, 0.2718154366000252, 0.2722669411296351, 0.2600568992805056, 0.26217363019351575, 0.27437396226781496, 0.26251347231257705, 0.2672275679926982, 0.27149986891803973, 0.25525541562691156, 0.25023546203963526, 0.24178795793725538, 0.25753721271203717, 0.24562331899523243, 0.2401372962161007, 0.23884589616366797, 0.23525327947644886, 0.23954014506403593, 0.21850391789414397, 0.21275573119459357, 0.1994970336637893, 0.1906611385681966, 0.19942421035256191, 0.19315655069958926, 0.19366145899076598, 0.18666556622551922, 0.19798716367767427, 0.19512278010272938, 0.2075318723358805, 0.20668226703822734, 0.21369272446571957, 0.21938265251628813, 0.21664935090155257, 0.20550419390201569, 0.1941392570734024, 0.183160200715065, 0.1729501187801361, 0.16350804269313812, 0.15486253798007965, 0.1471126824617386, 0.1403811275959015, 0.1347522884607315, 0.13023748993873596, 0.12677305936813354, 0.12423926591873169, 0.12248541414737701, 0.12135158479213715, 0.12068372964859009, 0.12034258246421814, 0.1202080100774765, 0.12018056213855743, 0.12018202245235443, 0.12015445530414581, 0.12005878984928131, 0.1198728084564209]\n",
            "22 day input [0.33229277 0.32551535 0.30384313 0.30716387 0.30932915 0.29966793\n",
            " 0.30060492 0.29537621 0.29242443 0.25999379 0.25239103 0.27335444\n",
            " 0.24432221 0.24105972 0.26190176 0.24637097 0.23023333 0.2148142\n",
            " 0.20341007 0.18644224 0.24012759 0.23744769 0.25276    0.24991018\n",
            " 0.25680898 0.2417297  0.25383293 0.23021391 0.23104409 0.23838954\n",
            " 0.23458331 0.21910107 0.22401422 0.21348882 0.20988649 0.22169843\n",
            " 0.23738458 0.23438425 0.24860907 0.2488858  0.23886046 0.24508928\n",
            " 0.24179767 0.25391547 0.28320986 0.2686015  0.27181544 0.27226694\n",
            " 0.2600569  0.26217363 0.27437396 0.26251347 0.26722757 0.27149987\n",
            " 0.25525542 0.25023546 0.24178796 0.25753721 0.24562332 0.2401373\n",
            " 0.2388459  0.23525328 0.23954015 0.21850392 0.21275573 0.19949703\n",
            " 0.19066114 0.19942421 0.19315655 0.19366146 0.18666557 0.19798716\n",
            " 0.19512278 0.20753187 0.20668227 0.21369272 0.21938265 0.21664935\n",
            " 0.20550419 0.19413926 0.1831602  0.17295012 0.16350804 0.15486254\n",
            " 0.14711268 0.14038113 0.13475229 0.13023749 0.12677306 0.12423927\n",
            " 0.12248541 0.12135158 0.12068373 0.12034258 0.12020801 0.12018056\n",
            " 0.12018202 0.12015446 0.12005879 0.11987281]\n",
            "22 day output [[0.11958861]]\n",
            "[0.3322927691306838, 0.32551534629911927, 0.3038431288778413, 0.30716387186981126, 0.309329151656973, 0.299667925700803, 0.300604918971929, 0.29537620522580077, 0.29242443367738297, 0.25999378574410853, 0.25239103205196667, 0.2733544359106312, 0.24432220916796937, 0.24105972482498128, 0.26190175649826675, 0.24637097165716726, 0.2302333258891726, 0.2148142034586218, 0.20341007292040897, 0.18644224140442178, 0.2401275864412704, 0.23744768858810156, 0.2527600034955189, 0.2499101845828195, 0.25680897959976307, 0.24172969928827348, 0.2538329336142694, 0.23021390633951194, 0.23104409208750443, 0.23838953674664282, 0.23458330501315666, 0.21910106904620874, 0.22401421511035152, 0.21348881919428286, 0.20988649273223348, 0.22169843381331983, 0.23738457505170446, 0.2343842546291351, 0.24860907475555633, 0.24888580333822052, 0.2388604608259134, 0.24508928137956476, 0.24179766771208572, 0.25391546670032716, 0.2832098573634077, 0.26860150113118875, 0.2718154366000252, 0.2722669411296351, 0.2600568992805056, 0.26217363019351575, 0.27437396226781496, 0.26251347231257705, 0.2672275679926982, 0.27149986891803973, 0.25525541562691156, 0.25023546203963526, 0.24178795793725538, 0.25753721271203717, 0.24562331899523243, 0.2401372962161007, 0.23884589616366797, 0.23525327947644886, 0.23954014506403593, 0.21850391789414397, 0.21275573119459357, 0.1994970336637893, 0.1906611385681966, 0.19942421035256191, 0.19315655069958926, 0.19366145899076598, 0.18666556622551922, 0.19798716367767427, 0.19512278010272938, 0.2075318723358805, 0.20668226703822734, 0.21369272446571957, 0.21938265251628813, 0.21664935090155257, 0.20550419390201569, 0.1941392570734024, 0.183160200715065, 0.1729501187801361, 0.16350804269313812, 0.15486253798007965, 0.1471126824617386, 0.1403811275959015, 0.1347522884607315, 0.13023748993873596, 0.12677305936813354, 0.12423926591873169, 0.12248541414737701, 0.12135158479213715, 0.12068372964859009, 0.12034258246421814, 0.1202080100774765, 0.12018056213855743, 0.12018202245235443, 0.12015445530414581, 0.12005878984928131, 0.1198728084564209, 0.11958861351013184]\n",
            "23 day input [0.32551535 0.30384313 0.30716387 0.30932915 0.29966793 0.30060492\n",
            " 0.29537621 0.29242443 0.25999379 0.25239103 0.27335444 0.24432221\n",
            " 0.24105972 0.26190176 0.24637097 0.23023333 0.2148142  0.20341007\n",
            " 0.18644224 0.24012759 0.23744769 0.25276    0.24991018 0.25680898\n",
            " 0.2417297  0.25383293 0.23021391 0.23104409 0.23838954 0.23458331\n",
            " 0.21910107 0.22401422 0.21348882 0.20988649 0.22169843 0.23738458\n",
            " 0.23438425 0.24860907 0.2488858  0.23886046 0.24508928 0.24179767\n",
            " 0.25391547 0.28320986 0.2686015  0.27181544 0.27226694 0.2600569\n",
            " 0.26217363 0.27437396 0.26251347 0.26722757 0.27149987 0.25525542\n",
            " 0.25023546 0.24178796 0.25753721 0.24562332 0.2401373  0.2388459\n",
            " 0.23525328 0.23954015 0.21850392 0.21275573 0.19949703 0.19066114\n",
            " 0.19942421 0.19315655 0.19366146 0.18666557 0.19798716 0.19512278\n",
            " 0.20753187 0.20668227 0.21369272 0.21938265 0.21664935 0.20550419\n",
            " 0.19413926 0.1831602  0.17295012 0.16350804 0.15486254 0.14711268\n",
            " 0.14038113 0.13475229 0.13023749 0.12677306 0.12423927 0.12248541\n",
            " 0.12135158 0.12068373 0.12034258 0.12020801 0.12018056 0.12018202\n",
            " 0.12015446 0.12005879 0.11987281 0.11958861]\n",
            "23 day output [[0.11920975]]\n",
            "[0.32551534629911927, 0.3038431288778413, 0.30716387186981126, 0.309329151656973, 0.299667925700803, 0.300604918971929, 0.29537620522580077, 0.29242443367738297, 0.25999378574410853, 0.25239103205196667, 0.2733544359106312, 0.24432220916796937, 0.24105972482498128, 0.26190175649826675, 0.24637097165716726, 0.2302333258891726, 0.2148142034586218, 0.20341007292040897, 0.18644224140442178, 0.2401275864412704, 0.23744768858810156, 0.2527600034955189, 0.2499101845828195, 0.25680897959976307, 0.24172969928827348, 0.2538329336142694, 0.23021390633951194, 0.23104409208750443, 0.23838953674664282, 0.23458330501315666, 0.21910106904620874, 0.22401421511035152, 0.21348881919428286, 0.20988649273223348, 0.22169843381331983, 0.23738457505170446, 0.2343842546291351, 0.24860907475555633, 0.24888580333822052, 0.2388604608259134, 0.24508928137956476, 0.24179766771208572, 0.25391546670032716, 0.2832098573634077, 0.26860150113118875, 0.2718154366000252, 0.2722669411296351, 0.2600568992805056, 0.26217363019351575, 0.27437396226781496, 0.26251347231257705, 0.2672275679926982, 0.27149986891803973, 0.25525541562691156, 0.25023546203963526, 0.24178795793725538, 0.25753721271203717, 0.24562331899523243, 0.2401372962161007, 0.23884589616366797, 0.23525327947644886, 0.23954014506403593, 0.21850391789414397, 0.21275573119459357, 0.1994970336637893, 0.1906611385681966, 0.19942421035256191, 0.19315655069958926, 0.19366145899076598, 0.18666556622551922, 0.19798716367767427, 0.19512278010272938, 0.2075318723358805, 0.20668226703822734, 0.21369272446571957, 0.21938265251628813, 0.21664935090155257, 0.20550419390201569, 0.1941392570734024, 0.183160200715065, 0.1729501187801361, 0.16350804269313812, 0.15486253798007965, 0.1471126824617386, 0.1403811275959015, 0.1347522884607315, 0.13023748993873596, 0.12677305936813354, 0.12423926591873169, 0.12248541414737701, 0.12135158479213715, 0.12068372964859009, 0.12034258246421814, 0.1202080100774765, 0.12018056213855743, 0.12018202245235443, 0.12015445530414581, 0.12005878984928131, 0.1198728084564209, 0.11958861351013184, 0.11920975148677826]\n",
            "24 day input [0.30384313 0.30716387 0.30932915 0.29966793 0.30060492 0.29537621\n",
            " 0.29242443 0.25999379 0.25239103 0.27335444 0.24432221 0.24105972\n",
            " 0.26190176 0.24637097 0.23023333 0.2148142  0.20341007 0.18644224\n",
            " 0.24012759 0.23744769 0.25276    0.24991018 0.25680898 0.2417297\n",
            " 0.25383293 0.23021391 0.23104409 0.23838954 0.23458331 0.21910107\n",
            " 0.22401422 0.21348882 0.20988649 0.22169843 0.23738458 0.23438425\n",
            " 0.24860907 0.2488858  0.23886046 0.24508928 0.24179767 0.25391547\n",
            " 0.28320986 0.2686015  0.27181544 0.27226694 0.2600569  0.26217363\n",
            " 0.27437396 0.26251347 0.26722757 0.27149987 0.25525542 0.25023546\n",
            " 0.24178796 0.25753721 0.24562332 0.2401373  0.2388459  0.23525328\n",
            " 0.23954015 0.21850392 0.21275573 0.19949703 0.19066114 0.19942421\n",
            " 0.19315655 0.19366146 0.18666557 0.19798716 0.19512278 0.20753187\n",
            " 0.20668227 0.21369272 0.21938265 0.21664935 0.20550419 0.19413926\n",
            " 0.1831602  0.17295012 0.16350804 0.15486254 0.14711268 0.14038113\n",
            " 0.13475229 0.13023749 0.12677306 0.12423927 0.12248541 0.12135158\n",
            " 0.12068373 0.12034258 0.12020801 0.12018056 0.12018202 0.12015446\n",
            " 0.12005879 0.11987281 0.11958861 0.11920975]\n",
            "24 day output [[0.11874828]]\n",
            "[0.3038431288778413, 0.30716387186981126, 0.309329151656973, 0.299667925700803, 0.300604918971929, 0.29537620522580077, 0.29242443367738297, 0.25999378574410853, 0.25239103205196667, 0.2733544359106312, 0.24432220916796937, 0.24105972482498128, 0.26190175649826675, 0.24637097165716726, 0.2302333258891726, 0.2148142034586218, 0.20341007292040897, 0.18644224140442178, 0.2401275864412704, 0.23744768858810156, 0.2527600034955189, 0.2499101845828195, 0.25680897959976307, 0.24172969928827348, 0.2538329336142694, 0.23021390633951194, 0.23104409208750443, 0.23838953674664282, 0.23458330501315666, 0.21910106904620874, 0.22401421511035152, 0.21348881919428286, 0.20988649273223348, 0.22169843381331983, 0.23738457505170446, 0.2343842546291351, 0.24860907475555633, 0.24888580333822052, 0.2388604608259134, 0.24508928137956476, 0.24179766771208572, 0.25391546670032716, 0.2832098573634077, 0.26860150113118875, 0.2718154366000252, 0.2722669411296351, 0.2600568992805056, 0.26217363019351575, 0.27437396226781496, 0.26251347231257705, 0.2672275679926982, 0.27149986891803973, 0.25525541562691156, 0.25023546203963526, 0.24178795793725538, 0.25753721271203717, 0.24562331899523243, 0.2401372962161007, 0.23884589616366797, 0.23525327947644886, 0.23954014506403593, 0.21850391789414397, 0.21275573119459357, 0.1994970336637893, 0.1906611385681966, 0.19942421035256191, 0.19315655069958926, 0.19366145899076598, 0.18666556622551922, 0.19798716367767427, 0.19512278010272938, 0.2075318723358805, 0.20668226703822734, 0.21369272446571957, 0.21938265251628813, 0.21664935090155257, 0.20550419390201569, 0.1941392570734024, 0.183160200715065, 0.1729501187801361, 0.16350804269313812, 0.15486253798007965, 0.1471126824617386, 0.1403811275959015, 0.1347522884607315, 0.13023748993873596, 0.12677305936813354, 0.12423926591873169, 0.12248541414737701, 0.12135158479213715, 0.12068372964859009, 0.12034258246421814, 0.1202080100774765, 0.12018056213855743, 0.12018202245235443, 0.12015445530414581, 0.12005878984928131, 0.1198728084564209, 0.11958861351013184, 0.11920975148677826, 0.11874827742576599]\n",
            "25 day input [0.30716387 0.30932915 0.29966793 0.30060492 0.29537621 0.29242443\n",
            " 0.25999379 0.25239103 0.27335444 0.24432221 0.24105972 0.26190176\n",
            " 0.24637097 0.23023333 0.2148142  0.20341007 0.18644224 0.24012759\n",
            " 0.23744769 0.25276    0.24991018 0.25680898 0.2417297  0.25383293\n",
            " 0.23021391 0.23104409 0.23838954 0.23458331 0.21910107 0.22401422\n",
            " 0.21348882 0.20988649 0.22169843 0.23738458 0.23438425 0.24860907\n",
            " 0.2488858  0.23886046 0.24508928 0.24179767 0.25391547 0.28320986\n",
            " 0.2686015  0.27181544 0.27226694 0.2600569  0.26217363 0.27437396\n",
            " 0.26251347 0.26722757 0.27149987 0.25525542 0.25023546 0.24178796\n",
            " 0.25753721 0.24562332 0.2401373  0.2388459  0.23525328 0.23954015\n",
            " 0.21850392 0.21275573 0.19949703 0.19066114 0.19942421 0.19315655\n",
            " 0.19366146 0.18666557 0.19798716 0.19512278 0.20753187 0.20668227\n",
            " 0.21369272 0.21938265 0.21664935 0.20550419 0.19413926 0.1831602\n",
            " 0.17295012 0.16350804 0.15486254 0.14711268 0.14038113 0.13475229\n",
            " 0.13023749 0.12677306 0.12423927 0.12248541 0.12135158 0.12068373\n",
            " 0.12034258 0.12020801 0.12018056 0.12018202 0.12015446 0.12005879\n",
            " 0.11987281 0.11958861 0.11920975 0.11874828]\n",
            "25 day output [[0.118222]]\n",
            "[0.30716387186981126, 0.309329151656973, 0.299667925700803, 0.300604918971929, 0.29537620522580077, 0.29242443367738297, 0.25999378574410853, 0.25239103205196667, 0.2733544359106312, 0.24432220916796937, 0.24105972482498128, 0.26190175649826675, 0.24637097165716726, 0.2302333258891726, 0.2148142034586218, 0.20341007292040897, 0.18644224140442178, 0.2401275864412704, 0.23744768858810156, 0.2527600034955189, 0.2499101845828195, 0.25680897959976307, 0.24172969928827348, 0.2538329336142694, 0.23021390633951194, 0.23104409208750443, 0.23838953674664282, 0.23458330501315666, 0.21910106904620874, 0.22401421511035152, 0.21348881919428286, 0.20988649273223348, 0.22169843381331983, 0.23738457505170446, 0.2343842546291351, 0.24860907475555633, 0.24888580333822052, 0.2388604608259134, 0.24508928137956476, 0.24179766771208572, 0.25391546670032716, 0.2832098573634077, 0.26860150113118875, 0.2718154366000252, 0.2722669411296351, 0.2600568992805056, 0.26217363019351575, 0.27437396226781496, 0.26251347231257705, 0.2672275679926982, 0.27149986891803973, 0.25525541562691156, 0.25023546203963526, 0.24178795793725538, 0.25753721271203717, 0.24562331899523243, 0.2401372962161007, 0.23884589616366797, 0.23525327947644886, 0.23954014506403593, 0.21850391789414397, 0.21275573119459357, 0.1994970336637893, 0.1906611385681966, 0.19942421035256191, 0.19315655069958926, 0.19366145899076598, 0.18666556622551922, 0.19798716367767427, 0.19512278010272938, 0.2075318723358805, 0.20668226703822734, 0.21369272446571957, 0.21938265251628813, 0.21664935090155257, 0.20550419390201569, 0.1941392570734024, 0.183160200715065, 0.1729501187801361, 0.16350804269313812, 0.15486253798007965, 0.1471126824617386, 0.1403811275959015, 0.1347522884607315, 0.13023748993873596, 0.12677305936813354, 0.12423926591873169, 0.12248541414737701, 0.12135158479213715, 0.12068372964859009, 0.12034258246421814, 0.1202080100774765, 0.12018056213855743, 0.12018202245235443, 0.12015445530414581, 0.12005878984928131, 0.1198728084564209, 0.11958861351013184, 0.11920975148677826, 0.11874827742576599, 0.11822199821472168]\n",
            "26 day input [0.30932915 0.29966793 0.30060492 0.29537621 0.29242443 0.25999379\n",
            " 0.25239103 0.27335444 0.24432221 0.24105972 0.26190176 0.24637097\n",
            " 0.23023333 0.2148142  0.20341007 0.18644224 0.24012759 0.23744769\n",
            " 0.25276    0.24991018 0.25680898 0.2417297  0.25383293 0.23021391\n",
            " 0.23104409 0.23838954 0.23458331 0.21910107 0.22401422 0.21348882\n",
            " 0.20988649 0.22169843 0.23738458 0.23438425 0.24860907 0.2488858\n",
            " 0.23886046 0.24508928 0.24179767 0.25391547 0.28320986 0.2686015\n",
            " 0.27181544 0.27226694 0.2600569  0.26217363 0.27437396 0.26251347\n",
            " 0.26722757 0.27149987 0.25525542 0.25023546 0.24178796 0.25753721\n",
            " 0.24562332 0.2401373  0.2388459  0.23525328 0.23954015 0.21850392\n",
            " 0.21275573 0.19949703 0.19066114 0.19942421 0.19315655 0.19366146\n",
            " 0.18666557 0.19798716 0.19512278 0.20753187 0.20668227 0.21369272\n",
            " 0.21938265 0.21664935 0.20550419 0.19413926 0.1831602  0.17295012\n",
            " 0.16350804 0.15486254 0.14711268 0.14038113 0.13475229 0.13023749\n",
            " 0.12677306 0.12423927 0.12248541 0.12135158 0.12068373 0.12034258\n",
            " 0.12020801 0.12018056 0.12018202 0.12015446 0.12005879 0.11987281\n",
            " 0.11958861 0.11920975 0.11874828 0.118222  ]\n",
            "26 day output [[0.11765186]]\n",
            "[0.309329151656973, 0.299667925700803, 0.300604918971929, 0.29537620522580077, 0.29242443367738297, 0.25999378574410853, 0.25239103205196667, 0.2733544359106312, 0.24432220916796937, 0.24105972482498128, 0.26190175649826675, 0.24637097165716726, 0.2302333258891726, 0.2148142034586218, 0.20341007292040897, 0.18644224140442178, 0.2401275864412704, 0.23744768858810156, 0.2527600034955189, 0.2499101845828195, 0.25680897959976307, 0.24172969928827348, 0.2538329336142694, 0.23021390633951194, 0.23104409208750443, 0.23838953674664282, 0.23458330501315666, 0.21910106904620874, 0.22401421511035152, 0.21348881919428286, 0.20988649273223348, 0.22169843381331983, 0.23738457505170446, 0.2343842546291351, 0.24860907475555633, 0.24888580333822052, 0.2388604608259134, 0.24508928137956476, 0.24179766771208572, 0.25391546670032716, 0.2832098573634077, 0.26860150113118875, 0.2718154366000252, 0.2722669411296351, 0.2600568992805056, 0.26217363019351575, 0.27437396226781496, 0.26251347231257705, 0.2672275679926982, 0.27149986891803973, 0.25525541562691156, 0.25023546203963526, 0.24178795793725538, 0.25753721271203717, 0.24562331899523243, 0.2401372962161007, 0.23884589616366797, 0.23525327947644886, 0.23954014506403593, 0.21850391789414397, 0.21275573119459357, 0.1994970336637893, 0.1906611385681966, 0.19942421035256191, 0.19315655069958926, 0.19366145899076598, 0.18666556622551922, 0.19798716367767427, 0.19512278010272938, 0.2075318723358805, 0.20668226703822734, 0.21369272446571957, 0.21938265251628813, 0.21664935090155257, 0.20550419390201569, 0.1941392570734024, 0.183160200715065, 0.1729501187801361, 0.16350804269313812, 0.15486253798007965, 0.1471126824617386, 0.1403811275959015, 0.1347522884607315, 0.13023748993873596, 0.12677305936813354, 0.12423926591873169, 0.12248541414737701, 0.12135158479213715, 0.12068372964859009, 0.12034258246421814, 0.1202080100774765, 0.12018056213855743, 0.12018202245235443, 0.12015445530414581, 0.12005878984928131, 0.1198728084564209, 0.11958861351013184, 0.11920975148677826, 0.11874827742576599, 0.11822199821472168, 0.11765186488628387]\n",
            "27 day input [0.29966793 0.30060492 0.29537621 0.29242443 0.25999379 0.25239103\n",
            " 0.27335444 0.24432221 0.24105972 0.26190176 0.24637097 0.23023333\n",
            " 0.2148142  0.20341007 0.18644224 0.24012759 0.23744769 0.25276\n",
            " 0.24991018 0.25680898 0.2417297  0.25383293 0.23021391 0.23104409\n",
            " 0.23838954 0.23458331 0.21910107 0.22401422 0.21348882 0.20988649\n",
            " 0.22169843 0.23738458 0.23438425 0.24860907 0.2488858  0.23886046\n",
            " 0.24508928 0.24179767 0.25391547 0.28320986 0.2686015  0.27181544\n",
            " 0.27226694 0.2600569  0.26217363 0.27437396 0.26251347 0.26722757\n",
            " 0.27149987 0.25525542 0.25023546 0.24178796 0.25753721 0.24562332\n",
            " 0.2401373  0.2388459  0.23525328 0.23954015 0.21850392 0.21275573\n",
            " 0.19949703 0.19066114 0.19942421 0.19315655 0.19366146 0.18666557\n",
            " 0.19798716 0.19512278 0.20753187 0.20668227 0.21369272 0.21938265\n",
            " 0.21664935 0.20550419 0.19413926 0.1831602  0.17295012 0.16350804\n",
            " 0.15486254 0.14711268 0.14038113 0.13475229 0.13023749 0.12677306\n",
            " 0.12423927 0.12248541 0.12135158 0.12068373 0.12034258 0.12020801\n",
            " 0.12018056 0.12018202 0.12015446 0.12005879 0.11987281 0.11958861\n",
            " 0.11920975 0.11874828 0.118222   0.11765186]\n",
            "27 day output [[0.11705965]]\n",
            "[0.299667925700803, 0.300604918971929, 0.29537620522580077, 0.29242443367738297, 0.25999378574410853, 0.25239103205196667, 0.2733544359106312, 0.24432220916796937, 0.24105972482498128, 0.26190175649826675, 0.24637097165716726, 0.2302333258891726, 0.2148142034586218, 0.20341007292040897, 0.18644224140442178, 0.2401275864412704, 0.23744768858810156, 0.2527600034955189, 0.2499101845828195, 0.25680897959976307, 0.24172969928827348, 0.2538329336142694, 0.23021390633951194, 0.23104409208750443, 0.23838953674664282, 0.23458330501315666, 0.21910106904620874, 0.22401421511035152, 0.21348881919428286, 0.20988649273223348, 0.22169843381331983, 0.23738457505170446, 0.2343842546291351, 0.24860907475555633, 0.24888580333822052, 0.2388604608259134, 0.24508928137956476, 0.24179766771208572, 0.25391546670032716, 0.2832098573634077, 0.26860150113118875, 0.2718154366000252, 0.2722669411296351, 0.2600568992805056, 0.26217363019351575, 0.27437396226781496, 0.26251347231257705, 0.2672275679926982, 0.27149986891803973, 0.25525541562691156, 0.25023546203963526, 0.24178795793725538, 0.25753721271203717, 0.24562331899523243, 0.2401372962161007, 0.23884589616366797, 0.23525327947644886, 0.23954014506403593, 0.21850391789414397, 0.21275573119459357, 0.1994970336637893, 0.1906611385681966, 0.19942421035256191, 0.19315655069958926, 0.19366145899076598, 0.18666556622551922, 0.19798716367767427, 0.19512278010272938, 0.2075318723358805, 0.20668226703822734, 0.21369272446571957, 0.21938265251628813, 0.21664935090155257, 0.20550419390201569, 0.1941392570734024, 0.183160200715065, 0.1729501187801361, 0.16350804269313812, 0.15486253798007965, 0.1471126824617386, 0.1403811275959015, 0.1347522884607315, 0.13023748993873596, 0.12677305936813354, 0.12423926591873169, 0.12248541414737701, 0.12135158479213715, 0.12068372964859009, 0.12034258246421814, 0.1202080100774765, 0.12018056213855743, 0.12018202245235443, 0.12015445530414581, 0.12005878984928131, 0.1198728084564209, 0.11958861351013184, 0.11920975148677826, 0.11874827742576599, 0.11822199821472168, 0.11765186488628387, 0.11705964803695679]\n",
            "28 day input [0.30060492 0.29537621 0.29242443 0.25999379 0.25239103 0.27335444\n",
            " 0.24432221 0.24105972 0.26190176 0.24637097 0.23023333 0.2148142\n",
            " 0.20341007 0.18644224 0.24012759 0.23744769 0.25276    0.24991018\n",
            " 0.25680898 0.2417297  0.25383293 0.23021391 0.23104409 0.23838954\n",
            " 0.23458331 0.21910107 0.22401422 0.21348882 0.20988649 0.22169843\n",
            " 0.23738458 0.23438425 0.24860907 0.2488858  0.23886046 0.24508928\n",
            " 0.24179767 0.25391547 0.28320986 0.2686015  0.27181544 0.27226694\n",
            " 0.2600569  0.26217363 0.27437396 0.26251347 0.26722757 0.27149987\n",
            " 0.25525542 0.25023546 0.24178796 0.25753721 0.24562332 0.2401373\n",
            " 0.2388459  0.23525328 0.23954015 0.21850392 0.21275573 0.19949703\n",
            " 0.19066114 0.19942421 0.19315655 0.19366146 0.18666557 0.19798716\n",
            " 0.19512278 0.20753187 0.20668227 0.21369272 0.21938265 0.21664935\n",
            " 0.20550419 0.19413926 0.1831602  0.17295012 0.16350804 0.15486254\n",
            " 0.14711268 0.14038113 0.13475229 0.13023749 0.12677306 0.12423927\n",
            " 0.12248541 0.12135158 0.12068373 0.12034258 0.12020801 0.12018056\n",
            " 0.12018202 0.12015446 0.12005879 0.11987281 0.11958861 0.11920975\n",
            " 0.11874828 0.118222   0.11765186 0.11705965]\n",
            "28 day output [[0.1164663]]\n",
            "[0.300604918971929, 0.29537620522580077, 0.29242443367738297, 0.25999378574410853, 0.25239103205196667, 0.2733544359106312, 0.24432220916796937, 0.24105972482498128, 0.26190175649826675, 0.24637097165716726, 0.2302333258891726, 0.2148142034586218, 0.20341007292040897, 0.18644224140442178, 0.2401275864412704, 0.23744768858810156, 0.2527600034955189, 0.2499101845828195, 0.25680897959976307, 0.24172969928827348, 0.2538329336142694, 0.23021390633951194, 0.23104409208750443, 0.23838953674664282, 0.23458330501315666, 0.21910106904620874, 0.22401421511035152, 0.21348881919428286, 0.20988649273223348, 0.22169843381331983, 0.23738457505170446, 0.2343842546291351, 0.24860907475555633, 0.24888580333822052, 0.2388604608259134, 0.24508928137956476, 0.24179766771208572, 0.25391546670032716, 0.2832098573634077, 0.26860150113118875, 0.2718154366000252, 0.2722669411296351, 0.2600568992805056, 0.26217363019351575, 0.27437396226781496, 0.26251347231257705, 0.2672275679926982, 0.27149986891803973, 0.25525541562691156, 0.25023546203963526, 0.24178795793725538, 0.25753721271203717, 0.24562331899523243, 0.2401372962161007, 0.23884589616366797, 0.23525327947644886, 0.23954014506403593, 0.21850391789414397, 0.21275573119459357, 0.1994970336637893, 0.1906611385681966, 0.19942421035256191, 0.19315655069958926, 0.19366145899076598, 0.18666556622551922, 0.19798716367767427, 0.19512278010272938, 0.2075318723358805, 0.20668226703822734, 0.21369272446571957, 0.21938265251628813, 0.21664935090155257, 0.20550419390201569, 0.1941392570734024, 0.183160200715065, 0.1729501187801361, 0.16350804269313812, 0.15486253798007965, 0.1471126824617386, 0.1403811275959015, 0.1347522884607315, 0.13023748993873596, 0.12677305936813354, 0.12423926591873169, 0.12248541414737701, 0.12135158479213715, 0.12068372964859009, 0.12034258246421814, 0.1202080100774765, 0.12018056213855743, 0.12018202245235443, 0.12015445530414581, 0.12005878984928131, 0.1198728084564209, 0.11958861351013184, 0.11920975148677826, 0.11874827742576599, 0.11822199821472168, 0.11765186488628387, 0.11705964803695679, 0.11646629869937897]\n",
            "29 day input [0.29537621 0.29242443 0.25999379 0.25239103 0.27335444 0.24432221\n",
            " 0.24105972 0.26190176 0.24637097 0.23023333 0.2148142  0.20341007\n",
            " 0.18644224 0.24012759 0.23744769 0.25276    0.24991018 0.25680898\n",
            " 0.2417297  0.25383293 0.23021391 0.23104409 0.23838954 0.23458331\n",
            " 0.21910107 0.22401422 0.21348882 0.20988649 0.22169843 0.23738458\n",
            " 0.23438425 0.24860907 0.2488858  0.23886046 0.24508928 0.24179767\n",
            " 0.25391547 0.28320986 0.2686015  0.27181544 0.27226694 0.2600569\n",
            " 0.26217363 0.27437396 0.26251347 0.26722757 0.27149987 0.25525542\n",
            " 0.25023546 0.24178796 0.25753721 0.24562332 0.2401373  0.2388459\n",
            " 0.23525328 0.23954015 0.21850392 0.21275573 0.19949703 0.19066114\n",
            " 0.19942421 0.19315655 0.19366146 0.18666557 0.19798716 0.19512278\n",
            " 0.20753187 0.20668227 0.21369272 0.21938265 0.21664935 0.20550419\n",
            " 0.19413926 0.1831602  0.17295012 0.16350804 0.15486254 0.14711268\n",
            " 0.14038113 0.13475229 0.13023749 0.12677306 0.12423927 0.12248541\n",
            " 0.12135158 0.12068373 0.12034258 0.12020801 0.12018056 0.12018202\n",
            " 0.12015446 0.12005879 0.11987281 0.11958861 0.11920975 0.11874828\n",
            " 0.118222   0.11765186 0.11705965 0.1164663 ]\n",
            "29 day output [[0.11589061]]\n",
            "[0.29537620522580077, 0.29242443367738297, 0.25999378574410853, 0.25239103205196667, 0.2733544359106312, 0.24432220916796937, 0.24105972482498128, 0.26190175649826675, 0.24637097165716726, 0.2302333258891726, 0.2148142034586218, 0.20341007292040897, 0.18644224140442178, 0.2401275864412704, 0.23744768858810156, 0.2527600034955189, 0.2499101845828195, 0.25680897959976307, 0.24172969928827348, 0.2538329336142694, 0.23021390633951194, 0.23104409208750443, 0.23838953674664282, 0.23458330501315666, 0.21910106904620874, 0.22401421511035152, 0.21348881919428286, 0.20988649273223348, 0.22169843381331983, 0.23738457505170446, 0.2343842546291351, 0.24860907475555633, 0.24888580333822052, 0.2388604608259134, 0.24508928137956476, 0.24179766771208572, 0.25391546670032716, 0.2832098573634077, 0.26860150113118875, 0.2718154366000252, 0.2722669411296351, 0.2600568992805056, 0.26217363019351575, 0.27437396226781496, 0.26251347231257705, 0.2672275679926982, 0.27149986891803973, 0.25525541562691156, 0.25023546203963526, 0.24178795793725538, 0.25753721271203717, 0.24562331899523243, 0.2401372962161007, 0.23884589616366797, 0.23525327947644886, 0.23954014506403593, 0.21850391789414397, 0.21275573119459357, 0.1994970336637893, 0.1906611385681966, 0.19942421035256191, 0.19315655069958926, 0.19366145899076598, 0.18666556622551922, 0.19798716367767427, 0.19512278010272938, 0.2075318723358805, 0.20668226703822734, 0.21369272446571957, 0.21938265251628813, 0.21664935090155257, 0.20550419390201569, 0.1941392570734024, 0.183160200715065, 0.1729501187801361, 0.16350804269313812, 0.15486253798007965, 0.1471126824617386, 0.1403811275959015, 0.1347522884607315, 0.13023748993873596, 0.12677305936813354, 0.12423926591873169, 0.12248541414737701, 0.12135158479213715, 0.12068372964859009, 0.12034258246421814, 0.1202080100774765, 0.12018056213855743, 0.12018202245235443, 0.12015445530414581, 0.12005878984928131, 0.1198728084564209, 0.11958861351013184, 0.11920975148677826, 0.11874827742576599, 0.11822199821472168, 0.11765186488628387, 0.11705964803695679, 0.11646629869937897, 0.11589060723781586]\n"
          ],
          "name": "stdout"
        }
      ]
    },
    {
      "cell_type": "code",
      "metadata": {
        "id": "huQLfOwr5159"
      },
      "source": [
        "day_new = np.arange(1, 101)\n",
        "day_predict = np.arange(101, 131)"
      ],
      "execution_count": 103,
      "outputs": []
    },
    {
      "cell_type": "code",
      "metadata": {
        "id": "uRD0Etj26N9L"
      },
      "source": [
        "import matplotlib.pyplot as plt"
      ],
      "execution_count": 104,
      "outputs": []
    },
    {
      "cell_type": "code",
      "metadata": {
        "colab": {
          "base_uri": "https://localhost:8080/"
        },
        "id": "cc5fnN8D6Q5R",
        "outputId": "06adfee8-5459-4555-9e48-21f6eb0f0a87"
      },
      "source": [
        "len(df)"
      ],
      "execution_count": 105,
      "outputs": [
        {
          "output_type": "execute_result",
          "data": {
            "text/plain": [
              "1258"
            ]
          },
          "metadata": {
            "tags": []
          },
          "execution_count": 105
        }
      ]
    },
    {
      "cell_type": "code",
      "metadata": {
        "colab": {
          "base_uri": "https://localhost:8080/",
          "height": 284
        },
        "id": "OCdQCGPQ6aZ8",
        "outputId": "5a410a95-17c6-4ec1-e618-517d3cc6a7a4"
      },
      "source": [
        "plt.plot(day_new, scaler.inverse_transform(df[1158:])) ## taking last 100 days data\n",
        "plt.plot(day_predict, scaler.inverse_transform(lst_output)) ## plotting next 30 days predicted output which is stored in lst_output"
      ],
      "execution_count": 106,
      "outputs": [
        {
          "output_type": "execute_result",
          "data": {
            "text/plain": [
              "[<matplotlib.lines.Line2D at 0x7f96d1447ad0>]"
            ]
          },
          "metadata": {
            "tags": []
          },
          "execution_count": 106
        },
        {
          "output_type": "display_data",
          "data": {
            "image/png": "[encoded data removed]",
            "text/plain": [
              "<Figure size 432x288 with 1 Axes>"
            ]
          },
          "metadata": {
            "tags": [],
            "needs_background": "light"
          }
        }
      ]
    },
    {
      "cell_type": "code",
      "metadata": {
        "colab": {
          "base_uri": "https://localhost:8080/",
          "height": 282
        },
        "id": "Exd2M9Jo6leU",
        "outputId": "e90e3e2a-b5d0-4366-90ef-eab3ad5fbada"
      },
      "source": [
        "plt.plot(df[1200:])"
      ],
      "execution_count": 107,
      "outputs": [
        {
          "output_type": "execute_result",
          "data": {
            "text/plain": [
              "[<matplotlib.lines.Line2D at 0x7f96d15125d0>]"
            ]
          },
          "metadata": {
            "tags": []
          },
          "execution_count": 107
        },
        {
          "output_type": "display_data",
          "data": {
            "image/png": "[encoded data removed]",
            "text/plain": [
              "<Figure size 432x288 with 1 Axes>"
            ]
          },
          "metadata": {
            "tags": [],
            "needs_background": "light"
          }
        }
      ]
    },
    {
      "cell_type": "code",
      "metadata": {
        "colab": {
          "base_uri": "https://localhost:8080/",
          "height": 282
        },
        "id": "PKHDEAzF7fhh",
        "outputId": "b0cbc5c5-f011-48eb-9757-a0ced6c2e265"
      },
      "source": [
        "df1 = df.tolist()\n",
        "df1.extend(lst_output)\n",
        "plt.plot(df1)"
      ],
      "execution_count": 108,
      "outputs": [
        {
          "output_type": "execute_result",
          "data": {
            "text/plain": [
              "[<matplotlib.lines.Line2D at 0x7f96d14f0e50>]"
            ]
          },
          "metadata": {
            "tags": []
          },
          "execution_count": 108
        },
        {
          "output_type": "display_data",
          "data": {
            "image/png": "[encoded data removed]",
            "text/plain": [
              "<Figure size 432x288 with 1 Axes>"
            ]
          },
          "metadata": {
            "tags": [],
            "needs_background": "light"
          }
        }
      ]
    },
    {
      "cell_type": "code",
      "metadata": {
        "colab": {
          "base_uri": "https://localhost:8080/",
          "height": 163
        },
        "id": "_m-TgYG57124",
        "outputId": "7ea356ff-29f4-4f6c-d4ce-87c28fe2691e"
      },
      "source": [
        "lst_output.shape"
      ],
      "execution_count": 114,
      "outputs": [
        {
          "output_type": "error",
          "ename": "AttributeError",
          "evalue": "ignored",
          "traceback": [
            "\u001b[0;31m---------------------------------------------------------------------------\u001b[0m",
            "\u001b[0;31mAttributeError\u001b[0m                            Traceback (most recent call last)",
            "\u001b[0;32m<ipython-input-114-94c3605c71bb>\u001b[0m in \u001b[0;36m<module>\u001b[0;34m()\u001b[0m\n\u001b[0;32m----> 1\u001b[0;31m \u001b[0mlst_output\u001b[0m\u001b[0;34m.\u001b[0m\u001b[0mshape\u001b[0m\u001b[0;34m\u001b[0m\u001b[0;34m\u001b[0m\u001b[0m\n\u001b[0m",
            "\u001b[0;31mAttributeError\u001b[0m: 'list' object has no attribute 'shape'"
          ]
        }
      ]
    },
    {
      "cell_type": "code",
      "metadata": {
        "colab": {
          "base_uri": "https://localhost:8080/",
          "height": 282
        },
        "id": "Y2rPwloq_xJg",
        "outputId": "367dc5b6-0ffa-41a1-e02f-16eaab87053b"
      },
      "source": [
        "plt.plot(np.arange(1, 1259), scaler.inverse_transform(df))\n",
        "plt.plot(np.arange(1259, 1289,), scaler.inverse_transform(lst_output))"
      ],
      "execution_count": 116,
      "outputs": [
        {
          "output_type": "execute_result",
          "data": {
            "text/plain": [
              "[<matplotlib.lines.Line2D at 0x7f96d11f4c50>]"
            ]
          },
          "metadata": {
            "tags": []
          },
          "execution_count": 116
        },
        {
          "output_type": "display_data",
          "data": {
            "image/png": "[encoded data removed]",
            "text/plain": [
              "<Figure size 432x288 with 1 Axes>"
            ]
          },
          "metadata": {
            "tags": [],
            "needs_background": "light"
          }
        }
      ]
    },
    {
      "cell_type": "code",
      "metadata": {
        "id": "gLsOSYgT_TjM"
      },
      "source": [
        "## blue line is original data\n",
        "## orange line predicts share price for next 30 days"
      ],
      "execution_count": 117,
      "outputs": []
    },
    {
      "cell_type": "code",
      "metadata": {
        "id": "b-sIXcuHARfR"
      },
      "source": [
        ""
      ],
      "execution_count": null,
      "outputs": []
    }
  ]
}